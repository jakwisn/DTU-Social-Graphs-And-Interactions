{
 "cells": [
  {
   "cell_type": "code",
   "execution_count": 1,
   "id": "fff08fab-4b5b-4865-bb36-59dbe1ccb986",
   "metadata": {},
   "outputs": [],
   "source": [
    "import networkx as nx\n",
    "# import urllib -- Did not work on my linux machine - using requests instead\n",
    "import re\n",
    "import tqdm\n",
    "import collections\n",
    "import requests\n",
    "#import community.community_louvain as cl\n",
    "import json\n",
    "import matplotlib.pyplot as plt\n",
    "import pandas as pd\n",
    "import copy\n",
    "import re"
   ]
  },
  {
   "cell_type": "code",
   "execution_count": 39,
   "id": "f8267aae-520a-4c8b-9344-4e6088c81eab",
   "metadata": {},
   "outputs": [
    {
     "data": {
      "text/plain": [
       "711"
      ]
     },
     "execution_count": 39,
     "metadata": {},
     "output_type": "execute_result"
    }
   ],
   "source": [
    "with open('origin_dict.txt') as f: \n",
    "    data = f.read() \n",
    "      \n",
    "# reconstructing the data as a dictionary \n",
    "js = json.loads(data)\n",
    "len(js.keys())"
   ]
  },
  {
   "cell_type": "code",
   "execution_count": 40,
   "id": "5db95c25-823c-412a-b3d4-f6c18dbceabb",
   "metadata": {},
   "outputs": [],
   "source": [
    "dates_dict = dict().fromkeys(js.keys())"
   ]
  },
  {
   "cell_type": "code",
   "execution_count": 63,
   "id": "52ec46dd-ab5d-460f-bcd8-198c2bca299d",
   "metadata": {},
   "outputs": [],
   "source": [
    "for x in dates_dict.keys():\n",
    "    # dates_dict[x]\n",
    "    if len(js[x][0]) > 0:\n",
    "        if not js[x][0][0].isalpha(): # if there is at least one number\n",
    "            dates_dict[x] = js[x][0][0]\n",
    "        elif len(js[x][0])> 1 and not js[x][0][1].isalpha(): # if there is at least one number\n",
    "            dates_dict[x] = js[x][0][1]\n",
    "\n",
    "for k, v in dates_dict.items(): \n",
    "    if v:\n",
    "        new = re.findall('[0-9]+', v)\n",
    "        if len(new)>0:\n",
    "            dates_dict[k] = new[0]\n",
    "\n",
    "clean_dict_dates = {}\n",
    "for k, v in dates_dict.items():\n",
    "    if v:\n",
    "        if len(v) == 2:\n",
    "            clean_dict_dates[k] = v + '00'       \n",
    "        else: clean_dict_dates[k] = v   \n",
    "\n",
    "# known issues: \n",
    "clean_dict_dates['Hip hop music'] = '1973'\n",
    "clean_dict_dates['East Coast hip hop'] = '1973'\n",
    "clean_dict_dates['Diva house'] = '1990'\n",
    "clean_dict_dates['V-pop'] = '1980'"
   ]
  },
  {
   "cell_type": "code",
   "execution_count": 5,
   "id": "4b49cd9e-0760-4c8f-b8b1-19d6e42d86af",
   "metadata": {},
   "outputs": [],
   "source": [
    "places_dict = dict().fromkeys(js.keys())\n",
    "\n",
    "for x in places_dict.keys():\n",
    "    # dates_dict[x]\n",
    "    if len(js[x][1]) > 0:\n",
    "        places_dict[x] = js[x][1]"
   ]
  },
  {
   "cell_type": "code",
   "execution_count": null,
   "id": "5e3e0475-e629-483a-af78-d1721faafe64",
   "metadata": {},
   "outputs": [],
   "source": []
  },
  {
   "cell_type": "code",
   "execution_count": 8,
   "id": "3339f11e-a5d6-4ddd-9e34-89af218f762b",
   "metadata": {},
   "outputs": [],
   "source": [
    "cleaner_dict = {}\n",
    "\n",
    "blacklist =  ['Circa', 'circa', '']\n",
    "\n",
    "for k, v in places_dict.items(): \n",
    "    if v: \n",
    "        if len(v)>1:\n",
    "            places = []\n",
    "            for p in v: \n",
    "                to_add = re.sub('[\\[\\]{}]+', '', p)\n",
    "                if to_add not in blacklist:\n",
    "                    places.append(to_add)\n",
    "    \n",
    "            cleaner_dict[k] = places[0] # adding only first one \n",
    "        if len(v) == 1: \n",
    "            to_add = re.sub('[\\[\\]{}]+', '', v[0])\n",
    "            if to_add not in blacklist:\n",
    "                cleaner_dict[k] = to_add"
   ]
  },
  {
   "cell_type": "code",
   "execution_count": 9,
   "id": "01f30290-5eaa-44b9-8e8d-883ea70ec876",
   "metadata": {},
   "outputs": [],
   "source": [
    "import geopy"
   ]
  },
  {
   "cell_type": "code",
   "execution_count": 10,
   "id": "84bebeb0-4a86-42d1-b850-a1311043fa3a",
   "metadata": {},
   "outputs": [],
   "source": [
    "# importing geopy library\n",
    "from geopy.geocoders import Nominatim\n",
    " \n",
    "# calling the Nominatim tool\n",
    "loc = Nominatim(user_agent=\"GetLoc\")\n"
   ]
  },
  {
   "cell_type": "code",
   "execution_count": 30,
   "id": "b179bd23-8454-499b-9fd1-63cd31f97717",
   "metadata": {},
   "outputs": [],
   "source": [
    "correction_dict = {\n",
    "'Korea':'People republic of Korea',\n",
    "'US':'United States',\n",
    "'UK':'United Kingdom',\n",
    "'U.S.':'United States',\n",
    "'U.K.':'United Kingdom',\n",
    "'Mid-':'California',\n",
    "'Cajun':'Louisiana',\n",
    "'Sweden':'Stockholm',\n",
    "'Europe':' Suchowola',\n",
    "'Egypt':'Kairo',\n",
    "'Russia':'Moskow',\n",
    "'Ibiza small': 'Ibiza',\n",
    "'Germany':'Berlin',\n",
    "'Greece':'Athens',\n",
    "'Scandinavia':'Copenhagen',\n",
    "'Yugoslavia':'Serbia',\n",
    "'Southern Europe':'Venice',\n",
    "'Western Europe':'Lyon',\n",
    "'Northern Europe':'Oslo',\n",
    "'Oranie': 'Algeria',\n",
    "'Mid':'California',\n",
    "'Cubans':'Cuba',\n",
    "'Northeastern Mexico':'Mexico',\n",
    "'United&nbsp;States':'United States',\n",
    "'Southeastern Brazil':'Brasil',\n",
    "'West Coast of the United States':'San Francisco',\n",
    "'United&nbsp;States':'United States',\n",
    "'Pacific Northwest':'Portland',\n",
    "'United States and Sweden':'United States',\n",
    "'Western Nigeria':'Nigeria',\n",
    "'Igboland':'Nigeria',\n",
    "'Principality of Serbia':'Serbia'\n",
    "}"
   ]
  },
  {
   "cell_type": "code",
   "execution_count": 31,
   "id": "ae8241d5-bae4-4393-8a79-4c2889af671d",
   "metadata": {},
   "outputs": [],
   "source": [
    "import tqdm"
   ]
  },
  {
   "cell_type": "code",
   "execution_count": 33,
   "id": "354858e0-fa68-418a-8b7a-09a573dc8d4d",
   "metadata": {},
   "outputs": [
    {
     "name": "stderr",
     "output_type": "stream",
     "text": [
      "  1%|██▏                                                                                                                                                                                               | 7/618 [00:03<04:38,  2.19it/s]"
     ]
    },
    {
     "name": "stdout",
     "output_type": "stream",
     "text": [
      "failed for: Mid-twentieth-\n"
     ]
    },
    {
     "name": "stderr",
     "output_type": "stream",
     "text": [
      " 41%|█████████████████████████████████████████████████████████████████████████████▉                                                                                                                  | 251/618 [02:12<02:49,  2.16it/s]"
     ]
    },
    {
     "name": "stdout",
     "output_type": "stream",
     "text": [
      "failed for: nowrap\n"
     ]
    },
    {
     "name": "stderr",
     "output_type": "stream",
     "text": [
      " 53%|█████████████████████████████████████████████████████████████████████████████████████████████████████▎                                                                                          | 326/618 [02:51<02:14,  2.17it/s]"
     ]
    },
    {
     "name": "stdout",
     "output_type": "stream",
     "text": [
      "failed for: nowrap\n"
     ]
    },
    {
     "name": "stderr",
     "output_type": "stream",
     "text": [
      " 57%|█████████████████████████████████████████████████████████████████████████████████████████████████████████████                                                                                   | 351/618 [03:05<02:04,  2.14it/s]"
     ]
    },
    {
     "name": "stdout",
     "output_type": "stream",
     "text": [
      "failed for: AMearly\n"
     ]
    },
    {
     "name": "stderr",
     "output_type": "stream",
     "text": [
      "100%|████████████████████████████████████████████████████████████████████████████████████████████████████████████████████████████████████████████████████████████████████████████████████████████████| 618/618 [05:30<00:00,  1.87it/s]\n"
     ]
    }
   ],
   "source": [
    "lat_long_dict_2 = {}\n",
    "for k, v in tqdm.tqdm(cleaner_dict.items(), total=len(cleaner_dict.keys())):\n",
    "    # entering the location name\n",
    "    try:\n",
    "        if v in correction_dict.keys():\n",
    "            getLoc = loc.geocode(correction_dict[v])\n",
    "        else:\n",
    "            getLoc = loc.geocode(v)\n",
    "        lat_long_dict_2[k] = [getLoc.latitude, getLoc.longitude]\n",
    "    except: \n",
    "        print('failed for: ' + v)"
   ]
  },
  {
   "cell_type": "code",
   "execution_count": 89,
   "id": "7dfad371-9405-498f-918a-e05f8511680a",
   "metadata": {},
   "outputs": [],
   "source": [
    "with open('long_lat_dict.json', 'w') as f:\n",
    "    json.dump(lat_long_dict_2, f)"
   ]
  },
  {
   "cell_type": "code",
   "execution_count": 64,
   "id": "7c304cd1-ea8c-4e57-9127-aa9b978d14a4",
   "metadata": {},
   "outputs": [],
   "source": [
    "with open('dates_dict.json', 'w') as f:\n",
    "    json.dump(clean_dict_dates, f)"
   ]
  },
  {
   "cell_type": "code",
   "execution_count": 87,
   "id": "823ce4aa-3205-42fa-ad22-ce6716dc489b",
   "metadata": {},
   "outputs": [],
   "source": [
    "getLoc = loc.geocode('Brno', language='English')"
   ]
  },
  {
   "cell_type": "code",
   "execution_count": 88,
   "id": "cd05c624-c649-4008-874d-ee880e9d03d5",
   "metadata": {},
   "outputs": [
    {
     "data": {
      "text/plain": [
       "{'place_id': 165957977,\n",
       " 'licence': 'Data © OpenStreetMap contributors, ODbL 1.0. http://osm.org/copyright',\n",
       " 'osm_type': 'relation',\n",
       " 'osm_id': 438171,\n",
       " 'lat': '49.1922443',\n",
       " 'lon': '16.6113382',\n",
       " 'class': 'boundary',\n",
       " 'type': 'administrative',\n",
       " 'place_rank': 16,\n",
       " 'importance': 0.644589076488367,\n",
       " 'addresstype': 'city',\n",
       " 'name': 'Brno',\n",
       " 'display_name': 'Brno, okres Brno-město, Jihomoravský kraj, Česko',\n",
       " 'boundingbox': ['49.1098796', '49.2943708', '16.4279898', '16.7278346']}"
      ]
     },
     "execution_count": 88,
     "metadata": {},
     "output_type": "execute_result"
    }
   ],
   "source": [
    "getLoc.raw"
   ]
  },
  {
   "cell_type": "code",
   "execution_count": 83,
   "id": "79a873aa-8655-4b11-8bdc-af7a6d21ecc3",
   "metadata": {},
   "outputs": [
    {
     "name": "stderr",
     "output_type": "stream",
     "text": [
      "  1%|██▏                                                                                                                                                                                               | 7/618 [00:03<04:45,  2.14it/s]"
     ]
    },
    {
     "name": "stdout",
     "output_type": "stream",
     "text": [
      "failed for: Mid-twentieth-\n"
     ]
    },
    {
     "name": "stderr",
     "output_type": "stream",
     "text": [
      " 41%|█████████████████████████████████████████████████████████████████████████████▉                                                                                                                  | 251/618 [02:14<03:37,  1.69it/s]"
     ]
    },
    {
     "name": "stdout",
     "output_type": "stream",
     "text": [
      "failed for: nowrap\n"
     ]
    },
    {
     "name": "stderr",
     "output_type": "stream",
     "text": [
      " 53%|█████████████████████████████████████████████████████████████████████████████████████████████████████▎                                                                                          | 326/618 [02:53<02:18,  2.11it/s]"
     ]
    },
    {
     "name": "stdout",
     "output_type": "stream",
     "text": [
      "failed for: nowrap\n"
     ]
    },
    {
     "name": "stderr",
     "output_type": "stream",
     "text": [
      " 57%|█████████████████████████████████████████████████████████████████████████████████████████████████████████████                                                                                   | 351/618 [03:07<02:13,  2.01it/s]"
     ]
    },
    {
     "name": "stdout",
     "output_type": "stream",
     "text": [
      "failed for: AMearly\n"
     ]
    },
    {
     "name": "stderr",
     "output_type": "stream",
     "text": [
      "100%|████████████████████████████████████████████████████████████████████████████████████████████████████████████████████████████████████████████████████████████████████████████████████████████████| 618/618 [05:30<00:00,  1.87it/s]\n"
     ]
    }
   ],
   "source": [
    "country_dict = {}\n",
    "for k, v in tqdm.tqdm(cleaner_dict.items(), total=len(cleaner_dict.keys())):\n",
    "    # entering the location name\n",
    "    try:\n",
    "        if v in correction_dict.keys():\n",
    "            getLoc = loc.geocode(correction_dict[v])\n",
    "        else:\n",
    "            getLoc = loc.geocode(v)\n",
    "        country_dict[k] = getLoc.raw['display_name'].split(',')[-1]\n",
    "    except: \n",
    "        print('failed for: ' + v)"
   ]
  },
  {
   "cell_type": "code",
   "execution_count": 84,
   "id": "d46915fd-077a-45a0-8e78-670c17893798",
   "metadata": {},
   "outputs": [],
   "source": [
    "with open('country_dict.json', 'w') as f:\n",
    "    json.dump(country_dict, f)"
   ]
  },
  {
   "cell_type": "code",
   "execution_count": null,
   "id": "59a2ba85-1124-4ec8-b5c3-2001256f823a",
   "metadata": {},
   "outputs": [],
   "source": []
  }
 ],
 "metadata": {
  "kernelspec": {
   "display_name": "Python 3 (ipykernel)",
   "language": "python",
   "name": "python3"
  },
  "language_info": {
   "codemirror_mode": {
    "name": "ipython",
    "version": 3
   },
   "file_extension": ".py",
   "mimetype": "text/x-python",
   "name": "python",
   "nbconvert_exporter": "python",
   "pygments_lexer": "ipython3",
   "version": "3.11.4"
  }
 },
 "nbformat": 4,
 "nbformat_minor": 5
}
