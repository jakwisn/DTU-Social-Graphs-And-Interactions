{
 "cells": [
  {
   "cell_type": "code",
   "execution_count": 5,
   "id": "af8771b7-bfa7-49aa-937f-7a5dd965e201",
   "metadata": {
    "tags": []
   },
   "outputs": [],
   "source": [
    "import networkx as nx\n",
    "# import urllib -- Did not work on my linux machine - using requests instead\n",
    "import re\n",
    "import tqdm\n",
    "import collections\n",
    "import requests\n",
    "#import community.community_louvain as cl\n",
    "import json\n",
    "import matplotlib.pyplot as plt\n",
    "import pandas as pd\n",
    "import copy\n",
    "import os"
   ]
  },
  {
   "cell_type": "code",
   "execution_count": 2,
   "id": "eb6d6afe-42d9-4a02-86b7-9a62fc297e94",
   "metadata": {
    "tags": []
   },
   "outputs": [],
   "source": [
    "# https://spotipy.readthedocs.io/en/2.22.1/\n",
    "#!pip install spotipy"
   ]
  },
  {
   "cell_type": "code",
   "execution_count": 6,
   "id": "54431448-78a3-476f-8b66-857c6b4ebcae",
   "metadata": {
    "tags": []
   },
   "outputs": [],
   "source": [
    "# I am not sure if you need to do this with your own spotify accounts,\n",
    "# but at least these values are generated with my account and work for me\n",
    "SPOTIPY_CLIENT_ID = 'e4b512d87a094e989041dbfc11e480d8'\n",
    "SPOTIPY_CLIENT_SECRET = 'c8fa4cbd5b264c2c9713d81bcef449da'\n",
    "SPOTIPY_REDIRECT_URI = 'https://localhost:8888/callback'\n",
    "\n",
    "os.environ['SPOTIPY_CLIENT_ID'] = SPOTIPY_CLIENT_ID\n",
    "os.environ['SPOTIPY_CLIENT_SECRET'] = SPOTIPY_CLIENT_SECRET\n",
    "os.environ['SPOTIPY_REDIRECT_URI'] = SPOTIPY_REDIRECT_URI"
   ]
  },
  {
   "cell_type": "code",
   "execution_count": 7,
   "id": "4125d0a0-047f-41d5-b41c-cc165a37f785",
   "metadata": {
    "tags": []
   },
   "outputs": [
    {
     "name": "stdout",
     "output_type": "stream",
     "text": [
      "Portraits (+ Remixes)\n",
      "Portraits\n",
      "Young Heart\n",
      "Beautiful Lies (Deluxe)\n",
      "Beautiful Lies\n",
      "Fire Within (Deluxe)\n",
      "Fire Within\n",
      "Live in London\n",
      "Birdy (Deluxe Version)\n",
      "Birdy\n"
     ]
    }
   ],
   "source": [
    "import spotipy\n",
    "from spotipy.oauth2 import SpotifyClientCredentials\n",
    "\n",
    "birdy_uri = 'spotify:artist:2WX2uTcsvV5OnS0inACecP'\n",
    "spotify = spotipy.Spotify(client_credentials_manager=SpotifyClientCredentials())\n",
    "\n",
    "results = spotify.artist_albums(birdy_uri, album_type='album')\n",
    "albums = results['items']\n",
    "while results['next']:\n",
    "    results = spotify.next(results)\n",
    "    albums.extend(results['items'])\n",
    "\n",
    "for album in albums:\n",
    "    print(album['name'])"
   ]
  },
  {
   "cell_type": "code",
   "execution_count": 8,
   "id": "990383f0-048a-4c89-af6a-f9de2abf45a0",
   "metadata": {
    "tags": []
   },
   "outputs": [
    {
     "name": "stdout",
     "output_type": "stream",
     "text": [
      "track    : Immigrant Song - Remaster\n",
      "audio    : https://p.scdn.co/mp3-preview/f50f3416ea0807503e172ba87a92d8047d4f95da?cid=e4b512d87a094e989041dbfc11e480d8\n",
      "cover art: https://i.scdn.co/image/ab67616d0000b27390a50cfe99a4c19ff3cbfbdb\n",
      "\n",
      "track    : Stairway to Heaven - Remaster\n",
      "audio    : https://p.scdn.co/mp3-preview/337c8d45ac66899bc2db9ef3ed9438fe1d035ab1?cid=e4b512d87a094e989041dbfc11e480d8\n",
      "cover art: https://i.scdn.co/image/ab67616d0000b273c8a11e48c91a982d086afc69\n",
      "\n",
      "track    : Whole Lotta Love - 1990 Remaster\n",
      "audio    : https://p.scdn.co/mp3-preview/89f3dc45265602fa874c23d638538af0f2c6b56a?cid=e4b512d87a094e989041dbfc11e480d8\n",
      "cover art: https://i.scdn.co/image/ab67616d0000b273fc4f17340773c6c3579fea0d\n",
      "\n",
      "track    : Black Dog - Remaster\n",
      "audio    : https://p.scdn.co/mp3-preview/78dd352fdbe8d2a867b72c5a71ac44ef6a462ab4?cid=e4b512d87a094e989041dbfc11e480d8\n",
      "cover art: https://i.scdn.co/image/ab67616d0000b273c8a11e48c91a982d086afc69\n",
      "\n",
      "track    : Rock and Roll - Remaster\n",
      "audio    : https://p.scdn.co/mp3-preview/9464a064068943a58f673035d9ebe58e98f46bea?cid=e4b512d87a094e989041dbfc11e480d8\n",
      "cover art: https://i.scdn.co/image/ab67616d0000b273c8a11e48c91a982d086afc69\n",
      "\n",
      "track    : Good Times Bad Times - 1993 Remaster\n",
      "audio    : https://p.scdn.co/mp3-preview/499f6278a140080d3218c448448d0eb149eb65b7?cid=e4b512d87a094e989041dbfc11e480d8\n",
      "cover art: https://i.scdn.co/image/ab67616d0000b2736f2f499c1df1f210c9b34b32\n",
      "\n",
      "track    : Ramble On - 1990 Remaster\n",
      "audio    : https://p.scdn.co/mp3-preview/e734d4e4f125ff5fbe7d69faa7d505dc744fb7bb?cid=e4b512d87a094e989041dbfc11e480d8\n",
      "cover art: https://i.scdn.co/image/ab67616d0000b273fc4f17340773c6c3579fea0d\n",
      "\n",
      "track    : Kashmir - Remaster\n",
      "audio    : https://p.scdn.co/mp3-preview/4d9bde799eec8913e53c184c45b9fd575690b917?cid=e4b512d87a094e989041dbfc11e480d8\n",
      "cover art: https://i.scdn.co/image/ab67616d0000b273765b0617b572bdd1dbdc7d8e\n",
      "\n",
      "track    : Going to California - Remaster\n",
      "audio    : https://p.scdn.co/mp3-preview/8c2452c1db9c3a7aad2b826cb52303a689814f6e?cid=e4b512d87a094e989041dbfc11e480d8\n",
      "cover art: https://i.scdn.co/image/ab67616d0000b273c8a11e48c91a982d086afc69\n",
      "\n",
      "track    : Over the Hills and Far Away - Remaster\n",
      "audio    : https://p.scdn.co/mp3-preview/a828935e429be801aa374eeeb8b2cb0d91755d57?cid=e4b512d87a094e989041dbfc11e480d8\n",
      "cover art: https://i.scdn.co/image/ab67616d0000b2731aa47e71c4edfeaddb65cd54\n",
      "\n"
     ]
    }
   ],
   "source": [
    "lz_uri = 'spotify:artist:36QJpDe2go2KgaRleHCDTp'\n",
    "\n",
    "spotify = spotipy.Spotify(client_credentials_manager=SpotifyClientCredentials())\n",
    "results = spotify.artist_top_tracks(lz_uri)\n",
    "\n",
    "for track in results['tracks'][:10]:\n",
    "    print('track    : ' + track['name'])\n",
    "    print('audio    : ' + track['preview_url'])\n",
    "    print('cover art: ' + track['album']['images'][0]['url'])\n",
    "    print()"
   ]
  },
  {
   "cell_type": "code",
   "execution_count": 26,
   "id": "2e27022c-f0c6-4b6d-9464-3f381fcb1ffb",
   "metadata": {
    "tags": []
   },
   "outputs": [
    {
     "data": {
      "text/plain": [
       "75"
      ]
     },
     "execution_count": 26,
     "metadata": {},
     "output_type": "execute_result"
    }
   ],
   "source": [
    "edamame_uri = 'spotify:track:1uMHCAyGmHqyygoNRuo7MV'\n",
    "spotify = spotipy.Spotify(client_credentials_manager=SpotifyClientCredentials())\n",
    "\n",
    "results = spotify.search(q=\"edamame\", limit=1)\n",
    "results['tracks']['items'][0]['popularity']"
   ]
  },
  {
   "cell_type": "markdown",
   "id": "fd68dcd1-5b2a-472a-a943-adbf39b864ce",
   "metadata": {},
   "source": [
    "# LyricsGenius"
   ]
  },
  {
   "cell_type": "code",
   "execution_count": 27,
   "id": "d8941410-b4af-443c-96e3-38054f14f7f3",
   "metadata": {
    "tags": []
   },
   "outputs": [
    {
     "name": "stdout",
     "output_type": "stream",
     "text": [
      "Collecting lyricsgenius\n",
      "  Downloading lyricsgenius-3.0.1-py3-none-any.whl (59 kB)\n",
      "     ---------------------------------------- 0.0/59.4 kB ? eta -:--:--\n",
      "     ---------------------------------------- 59.4/59.4 kB ? eta 0:00:00\n",
      "Requirement already satisfied: beautifulsoup4>=4.6.0 in c:\\users\\tobia\\anaconda3\\envs\\nerf\\lib\\site-packages (from lyricsgenius) (4.12.2)\n",
      "Requirement already satisfied: requests>=2.20.0 in c:\\users\\tobia\\anaconda3\\envs\\nerf\\lib\\site-packages (from lyricsgenius) (2.31.0)\n",
      "Requirement already satisfied: soupsieve>1.2 in c:\\users\\tobia\\anaconda3\\envs\\nerf\\lib\\site-packages (from beautifulsoup4>=4.6.0->lyricsgenius) (2.4)\n",
      "Requirement already satisfied: charset-normalizer<4,>=2 in c:\\users\\tobia\\anaconda3\\envs\\nerf\\lib\\site-packages (from requests>=2.20.0->lyricsgenius) (2.0.4)\n",
      "Requirement already satisfied: idna<4,>=2.5 in c:\\users\\tobia\\anaconda3\\envs\\nerf\\lib\\site-packages (from requests>=2.20.0->lyricsgenius) (3.4)\n",
      "Requirement already satisfied: urllib3<3,>=1.21.1 in c:\\users\\tobia\\anaconda3\\envs\\nerf\\lib\\site-packages (from requests>=2.20.0->lyricsgenius) (1.26.16)\n",
      "Requirement already satisfied: certifi>=2017.4.17 in c:\\users\\tobia\\anaconda3\\envs\\nerf\\lib\\site-packages (from requests>=2.20.0->lyricsgenius) (2023.7.22)\n",
      "Installing collected packages: lyricsgenius\n",
      "Successfully installed lyricsgenius-3.0.1\n"
     ]
    }
   ],
   "source": [
    "# !pip install lyricsgenius"
   ]
  },
  {
   "cell_type": "code",
   "execution_count": 28,
   "id": "9b7d589a-3b33-4080-b99b-cdf08d39c671",
   "metadata": {
    "tags": []
   },
   "outputs": [],
   "source": [
    "import lyricsgenius\n",
    "\n",
    "GENIUS_CLIENT_ID = 'sMdTZnWAlyLmD-4um9hjr41IKR0-5UWniKvIey2nAdTiIFJ41jhvWwwJRcMV5xXe'\n",
    "GENIUS_CLIENT_SECRET = 'gmLi8NOIyfhy00AGI8sHx6lCoDNWYaFIHY0LCyQec0kYNwqySBuZu9pkGLspRld81UwvDMpM640syXKgHrVTdw'\n",
    "GENIUS_ACCESS_TOKEN = 'TEDB1id2WbMXG1d-U95eBcp40UlWT6hTfmZguebzmrYfSykHhMLaFhm3uvdGJp8T'\n",
    "\n",
    "genius = lyricsgenius.Genius(GENIUS_ACCESS_TOKEN)"
   ]
  },
  {
   "cell_type": "code",
   "execution_count": 30,
   "id": "9b9384c9-d98a-42e0-9101-11ba56838aa8",
   "metadata": {
    "tags": []
   },
   "outputs": [
    {
     "name": "stdout",
     "output_type": "stream",
     "text": [
      "Searching for songs by Mariah Carey...\n",
      "\n",
      "Song 1: \"All I Want for Christmas Is You\"\n",
      "Song 2: \"We Belong Together\"\n",
      "Song 3: \"Obsessed\"\n",
      "\n",
      "Reached user-specified song limit (3).\n",
      "Done. Found 3 songs.\n",
      "[Song(id, artist, ...), Song(id, artist, ...), Song(id, artist, ...)]\n"
     ]
    }
   ],
   "source": [
    "artist = genius.search_artist(\"Mariah Carey\", max_songs=3, sort=\"popularity\")\n",
    "print(artist.songs)"
   ]
  },
  {
   "cell_type": "code",
   "execution_count": 38,
   "id": "a4ec665b-28d0-46e6-98f1-ad257cb017cb",
   "metadata": {
    "tags": []
   },
   "outputs": [
    {
     "data": {
      "text/plain": [
       "\"150 ContributorsTranslationsEspañolTürkçeDeutschFrançaisPortuguêsAll I Want for Christmas Is You Lyrics[Intro]\\nI don't want a lot for Christmas\\nThere is just one thing I need\\nI don't care about the presents\\nUnderneath the Christmas tree\\nI just want you for my own\\nMore than you could ever know\\nMake my wish come true\\nAll I want for Christmas is you, yeah\\n\\n[Verse 1]\\nI don't want a lot for Christmas\\nThere is just one thing I need (And I)\\nDon't care about the presents\\nUnderneath the Christmas tree\\nI don't need to hang my stocking\\nThere upon the fireplace (Ah)\\nSanta Claus won't make me happy\\nWith a toy on Christmas Day\\n\\n[Chorus]\\nI just want you for my own (Ooh)\\nMore than you could ever know (Ooh)\\nMake my wish come true\\nAll I want for Christmas is you\\nYou, baby\\nYou might also like[Verse 2]\\nOh, I won't ask for much this Christmas\\nI won't even wish for snow (And I)\\nI'm just gonna keep on waiting\\nUnderneath the mistletoe\\nI won't make a list and send it\\nTo the North Pole for Saint Nick (Ah)\\nI won't even stay awake to\\nHear those magic reindeer click\\n\\n[Chorus]\\n'Cause I just want you here tonight (Ooh)\\nHolding on to me so tight (Ooh)\\nWhat more can I do?\\nOh baby, all I want for Christmas is you\\nYou, baby\\n\\n[Bridge]\\nOh, all the lights are shining\\nSo brightly everywhere (So brightly, baby)\\nAnd the sound of children's\\nLaughter fills the air (Oh, oh yeah)\\nAnd everyone is singing (Oh yeah)\\nI hear those sleigh bells ringing (Oh)\\nSanta, won't you bring me the one I really need? (Yeah, oh, oh)\\nWon't you please bring my baby to me?\\n[Verse 3]\\nOh, I don't want a lot for Christmas\\nThis is all I'm asking for (Ah)\\nI just wanna see my baby\\nStanding right outside my door\\n\\n[Chorus]\\nOh, I just want you for my own (Ooh)\\nMore than you could ever know (Ooh)\\nMake my wish come true\\nOh baby, all I want for Christmas is you\\n\\n[Outro]\\nYou, baby\\nAll I want for Christmas is you, baby (You)\\nAll I want for Christmas is you, baby (Ah, oh, ah, oh)\\nAll I want for Christmas is you, baby (You)\\nAll I want for Christmas is you, baby (All I really want, baby, ooh)\\nAll I want for Christmas is you, baby (All I want, all I really want is you)112Embed\""
      ]
     },
     "execution_count": 38,
     "metadata": {},
     "output_type": "execute_result"
    }
   ],
   "source": [
    "artist.songs[0].lyrics"
   ]
  },
  {
   "cell_type": "code",
   "execution_count": null,
   "id": "cd5980ad-4355-49ca-9e07-75729e03c446",
   "metadata": {},
   "outputs": [],
   "source": []
  }
 ],
 "metadata": {
  "kernelspec": {
   "display_name": "Python 3 (ipykernel)",
   "language": "python",
   "name": "python3"
  },
  "language_info": {
   "codemirror_mode": {
    "name": "ipython",
    "version": 3
   },
   "file_extension": ".py",
   "mimetype": "text/x-python",
   "name": "python",
   "nbconvert_exporter": "python",
   "pygments_lexer": "ipython3",
   "version": "3.10.10"
  }
 },
 "nbformat": 4,
 "nbformat_minor": 5
}
