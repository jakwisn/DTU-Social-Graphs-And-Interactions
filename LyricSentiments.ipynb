{
 "cells": [
  {
   "cell_type": "markdown",
   "id": "275f2bb9-a677-41a3-8fb1-7de9adf794a7",
   "metadata": {},
   "source": [
    "# Sentiment Analysis across music genres\n",
    "In this section we will perform sentiment analysis on the top songs of each genre. These genres are given in the *music_genre.txt* file, and in order to get the top songs and their lyrics we will use both the Spotify API through the *spotipy* package for searching and the Genius API through the *lyricsgenius* package to get lyrics."
   ]
  },
  {
   "cell_type": "code",
   "execution_count": null,
   "id": "fedefd99-0291-4179-98db-039c77685f39",
   "metadata": {},
   "outputs": [],
   "source": [
    "import lyricsgenius"
   ]
  }
 ],
 "metadata": {
  "kernelspec": {
   "display_name": "Python 3 (ipykernel)",
   "language": "python",
   "name": "python3"
  },
  "language_info": {
   "codemirror_mode": {
    "name": "ipython",
    "version": 3
   },
   "file_extension": ".py",
   "mimetype": "text/x-python",
   "name": "python",
   "nbconvert_exporter": "python",
   "pygments_lexer": "ipython3",
   "version": "3.10.10"
  }
 },
 "nbformat": 4,
 "nbformat_minor": 5
}
