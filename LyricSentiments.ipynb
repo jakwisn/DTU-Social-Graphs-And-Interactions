{
 "cells": [
  {
   "cell_type": "markdown",
   "id": "275f2bb9-a677-41a3-8fb1-7de9adf794a7",
   "metadata": {},
   "source": [
    "# Sentiment Analysis across music genres\n",
    "In this section we will perform sentiment analysis on the top songs of each genre. These genres are given in the *music_genre.txt* file, and in order to get the top songs and their lyrics we will use both the Spotify API through the *spotipy* package for searching and the Genius API through the *lyricsgenius* package to get lyrics."
   ]
  },
  {
   "cell_type": "code",
   "execution_count": 3,
   "id": "fedefd99-0291-4179-98db-039c77685f39",
   "metadata": {
    "tags": []
   },
   "outputs": [],
   "source": [
    "import lyricsgenius\n",
    "import json\n",
    "import spotipy\n",
    "from spotipy.oauth2 import SpotifyClientCredentials"
   ]
  },
  {
   "cell_type": "markdown",
   "id": "2cde821f-647e-40de-b820-196dd5590c31",
   "metadata": {},
   "source": [
    "First of all, we prepare the client IDs for both the Spotify and Genius APIs. The *ids.txt* will not be provided unless given, but can easily be made by accessing the Spotify and Genius developer pages, requesting new IDs, and inserting them in the text file. The SPOTIPY_REDIRECT_URI should be *https://localhost:8888/callback*"
   ]
  },
  {
   "cell_type": "code",
   "execution_count": 6,
   "id": "cced0afa-3daf-4bc4-9a60-0817b338cc90",
   "metadata": {
    "tags": []
   },
   "outputs": [],
   "source": [
    "with open('ids.txt') as f: \n",
    "    data = f.read() \n",
    "      \n",
    "# reconstructing the data as a dictionary \n",
    "api_ips = json.loads(data)\n",
    "\n",
    "SPOTIPY_CLIENT_ID = api_ips['SPOTIPY_CLIENT_ID']\n",
    "SPOTIPY_CLIENT_SECRET = api_ips['SPOTIPY_CLIENT_SECRET']\n",
    "SPOTIPY_REDIRECT_URI = api_ips['SPOTIPY_REDIRECT_URI']\n",
    "GENIUS_CLIENT_ID = api_ips['GENIUS_CLIENT_ID']\n",
    "GENIUS_CLIENT_SECRET = api_ips['GENIUS_CLIENT_SECRET']\n",
    "GENIUS_ACCESS_TOKEN = api_ips['GENIUS_ACCESS_TOKEN']"
   ]
  },
  {
   "cell_type": "code",
   "execution_count": null,
   "id": "a311c278-8d82-48c0-ae06-0820fe5185c3",
   "metadata": {},
   "outputs": [],
   "source": []
  },
  {
   "cell_type": "code",
   "execution_count": 16,
   "id": "cdb1b652-b624-4649-91a9-357f5c7744c3",
   "metadata": {
    "tags": []
   },
   "outputs": [
    {
     "name": "stdout",
     "output_type": "stream",
     "text": [
      "['Andalusian classical music', 'Indian classical music', 'Korean court music', 'Persian classical music', 'Western classical music', 'Early music', 'Medieval music', 'Ars antiqua', 'Ars nova', 'Ars subtilior']\n"
     ]
    }
   ],
   "source": [
    "genres = []\n",
    "with open ('music_genres.txt', 'r', encoding='utf-8') as f:\n",
    "    while True:\n",
    "        line = f.readline()\n",
    "\n",
    "        # if line is empty\n",
    "        # end of file is reached\n",
    "        if not line:\n",
    "            break\n",
    "\n",
    "        genres.append(line[:-1])\n",
    "print(genres[:10])"
   ]
  },
  {
   "cell_type": "code",
   "execution_count": null,
   "id": "5d208526-95bd-4347-b4a5-c3af5dc6c448",
   "metadata": {},
   "outputs": [],
   "source": []
  }
 ],
 "metadata": {
  "kernelspec": {
   "display_name": "Python 3 (ipykernel)",
   "language": "python",
   "name": "python3"
  },
  "language_info": {
   "codemirror_mode": {
    "name": "ipython",
    "version": 3
   },
   "file_extension": ".py",
   "mimetype": "text/x-python",
   "name": "python",
   "nbconvert_exporter": "python",
   "pygments_lexer": "ipython3",
   "version": "3.10.10"
  }
 },
 "nbformat": 4,
 "nbformat_minor": 5
}
