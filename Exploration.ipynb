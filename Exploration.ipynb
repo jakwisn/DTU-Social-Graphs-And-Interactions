{
 "cells": [
  {
   "cell_type": "code",
   "execution_count": 1,
   "id": "40bc9def-091b-44f6-b605-ba4516544c25",
   "metadata": {},
   "outputs": [],
   "source": [
    "import networkx as nx\n",
    "# import urllib -- Did not work on my linux machine - using requests instead\n",
    "import re\n",
    "import tqdm\n",
    "import collections\n",
    "import requests\n",
    "#import community.community_louvain as cl\n",
    "import json\n",
    "import matplotlib.pyplot as plt\n",
    "import pandas as pd\n",
    "import copy"
   ]
  },
  {
   "cell_type": "code",
   "execution_count": 19,
   "id": "fc0af56e-8cb8-494a-b686-ffa2fe8fdb24",
   "metadata": {},
   "outputs": [],
   "source": [
    "\n",
    "# to create the network I will create a simple function that gets references from wiki article\n",
    "\n",
    "def get_references(text, pattern=r'\\[\\[(.*?)\\]\\]'):\n",
    "    matches = re.findall(pattern, text)\n",
    "\n",
    "    matches_more = []\n",
    "    for match in matches:\n",
    "        x = match.split('|')\n",
    "        for m in x:\n",
    "            matches_more.append(m)\n",
    "\n",
    "    return matches_more\n",
    "\n",
    "#The function above uses regex to gather everything inside double square brackets `[[]]`. We know that there might be more than one option there so after that we split everything on `|` mark.  \n",
    "\n"
   ]
  },
  {
   "cell_type": "code",
   "execution_count": 3,
   "id": "2ffd5db9-f068-47c7-80db-d33724a2106b",
   "metadata": {},
   "outputs": [],
   "source": [
    "\n",
    "# Creating function to load up the rapper page\n",
    "\n",
    "def get_wikipage(wiki_name):\n",
    "    baseurl = \"https://en.wikipedia.org/w/api.php?\"\n",
    "    action = \"action=query\"\n",
    "    title = f\"titles={wiki_name.replace(' ', '_')}\" # replacing space with _\n",
    "    content = \"prop=revisions&rvprop=content\"\n",
    "    dataformat =\"format=json\" # we want have it in json format\n",
    "\n",
    "\n",
    "    query = \"{}{}&{}&{}&{}\".format(baseurl, action, content, title, dataformat)\n",
    "\n",
    "\n",
    "    wikitext = requests.get(query).content.decode('utf-8') # decoding to utf\n",
    "\n",
    "    d = json.loads(wikitext)\n",
    "\n",
    "    # now we want the actual latest article from wikipedia,\n",
    "    # so we have to access this information within dictionaries\n",
    "    page = d['query']['pages']\n",
    "    page_id = list(page.keys())[0]\n",
    "    page_title = page[page_id]['title']\n",
    "    content = page[page_id]['revisions'][0]['*']\n",
    "\n",
    "    return page_title, content\n"
   ]
  },
  {
   "cell_type": "code",
   "execution_count": 4,
   "id": "d5c9ef07-e743-4872-9b98-a1a0328dc98c",
   "metadata": {},
   "outputs": [],
   "source": [
    "page_title, content = get_wikipage('List_of_music_genres_and_styles')"
   ]
  },
  {
   "cell_type": "code",
   "execution_count": 5,
   "id": "1da0a9fd-729e-4c1c-8000-fcdf60d110bc",
   "metadata": {
    "collapsed": true,
    "jupyter": {
     "outputs_hidden": true
    },
    "tags": []
   },
   "outputs": [
    {
     "data": {
      "text/plain": [
       "\"{{Short description|None}}\\n{{Popular music}}\\n\\nThis is a '''list of music genres and styles'''. [[Music]] can be described in terms of many [[music genre|genres]] and styles. Classifications are often arbitrary, and may be disputed and closely related forms often overlap. Larger genres and styles comprise more specific sub-categories.\\n\\n==Classical==\\n{{see also|List of classical and art music traditions}}\\n* [[Andalusian classical music]]\\n* [[Indian classical music]]\\n* [[Korean court music]]\\n* [[Persian classical music]]\\n* [[Western classical music]]\\n** [[Early music]] \\n*** [[Medieval music]] (500–1400) \\n**** [[Ars antiqua]] (1170–1310)\\n**** [[Ars nova]] (1310–1377)\\n**** [[Ars subtilior]] (1360–1420)\\n****[[Bardcore]]\\n****[[Neo-Medieval music]]\\n****[[Tavernwave]]\\n*** [[Renaissance music]] (1400–1600)\\n***[[Baroque music]] (1600–1750)\\n*** [[Galant music]] (1720–1770)\\n***[[Classical period (music)|Classical period]] (1750–1820)\\n***[[Romantic music]] (1780–1910) \\n** [[20th-century classical music|20th]] and [[21st-century classical music|21st]]-centuries classical music (1901–present): \\n*** [[Modernism (music)|Modernism]] (1890–1930)\\n*** [[Impressionism in music|Impressionism]] (1875 or 1890–1925)\\n***[[Neoclassicism (music)|Neoclassicism]] (1920–1950)\\n*** [[High modernism]] (1930–present)\\n*** [[Postmodern music]] (1930–present)\\n*** [[Experimental music]] (1950–present)\\n***[[Contemporary classical music]] (1945 or 1975–present)\\n***[[Minimal music]]\\n\\n==Avant-garde and experimental==\\n{{main|Avant-garde music|experimental music}}\\n*[[Crossover music]]\\n*[[Danger music]]\\n*[[Drone music]]\\n*[[Electroacoustic music|Electroacoustic]]\\n*[[Industrial music]]\\n*[[Instrumental]]\\n*[[Lo-fi music|Lo-fi]]\\n*[[Musical improvisation]]\\n*[[Musique concrète]]\\n*[[Noise (music)|Noise]]\\n*[[Outsider music]]\\n*[[PC Music]]\\n*[[Progressive music]]\\n*[[Psychedelic music]]\\n*[[Underground music]]\\n\\n==Popular==\\n===Blues===\\n{{main|Blues}}\\n{{columns-list|colwidth=20em|\\n*[[African blues]]\\n*[[Blues rock]]\\n*[[Blues shouter]]\\n*[[British blues]]\\n*[[Canadian blues]]\\n*[[Chicago blues]]\\n*[[Classic female blues]]\\n*[[Contemporary R&B]]\\n*[[Delta blues]]\\n*[[Desert blues]]\\n*[[Detroit blues]]\\n*[[Electric blues]]\\n*[[Gospel blues]]\\n*[[Hill country blues]]\\n*[[Hokum|Hokum blues]]\\n*[[Honky Tonk Blues]]\\n*[[Jump blues]]\\n*[[Blues#Urban blues|Kansas City blues]]\\n*[[Louisiana blues]]\\n*[[Memphis blues]]\\n*[[New Orleans blues]]\\n*[[Piedmont blues]]\\n*[[Punk blues]]\\n*[[Rhythm and blues]]\\n**[[Doo-wop]]\\n*[[Soul blues]]\\n*[[St. Louis blues (music)|St. Louis blues]]\\n*[[Swamp blues]]\\n*[[Talking blues]]\\n*[[Texas blues]]\\n*[[West Coast blues]]\\n*[[Country blues]]\\n}}\\n\\n===Country===\\n{{main|Country music}}\\n{{columns-list|colwidth=18em|\\n*[[Alternative country]]\\n**[[Cowpunk]]\\n*[[Americana (music)|Americana]]\\n*[[Australian country music|Australian country]]\\n*[[Bakersfield sound]]\\n*[[Bluegrass music|Bluegrass]]\\n**[[Progressive bluegrass]]\\n**[[Bluegrass music|Reactionary bluegrass]]\\n*[[Classic country]]\\n*[[Country blues]]\\n*[[Country pop]]\\n*[[Country rap]]\\n*[[Country rock]]\\n*[[Cajun music|Cajun]]\\n**[[Cajun fiddle]]\\n*[[Christian country music|Christian country]]\\n*[[Close harmony]]\\n*[[Dansband]]\\n*[[Gothic country]]\\n*[[Hokum]]\\n*[[Honky-tonk|Honky-tonk country]]\\n*[[Country music|Instrumental country]]\\n*[[Nashville sound]]\\n*[[Neotraditional country]]\\n*[[New Mexico music]]\\n*[[Outlaw country]]\\n*[[Progressive country]]\\n*[[Red dirt (music)|Red dirt]]\\n*[[Rockabilly]]\\n**[[Hellbilly music|Hellbilly]]\\n**[[Psychobilly]]\\n*[[Sertanejo music|Sertanejo]]\\n*[[Tejano music|Tejano]]\\n*[[Texas country music|Texas country]]\\n*[[Traditional country music]]\\n*[[Truck-driving country]]\\n*[[Western music (North America)|Western (Cowboy)]]\\n**[[Cowboy pop]]\\n**[[New Mexico music|New Mexico]]\\n**[[Texas country music|Texas country]]\\n**[[Tejano music|Tejano]]\\n*[[Western swing]]\\n*[[Zydeco]]\\n}}\\n\\n===Easy listening===\\n{{main|Easy listening}}\\n{{columns-list|colwidth=30em|\\n*[[Adult standards]]\\n*[[Background music]]\\n**[[Elevator music]] (''[[muzak]]'')\\n*[[Barococo]]\\n*[[Beautiful music]]\\n*[[Chill-out music|Chill-out]]\\n*[[Downtempo]]\\n*[[Furniture music]]\\n*[[Light music]]\\n*[[Lounge music]]\\n*[[Middle of the road (music)|Middle of the road]]\\n*[[New-age music]]\\n}}\\n\\n===Electronic===\\n{{main|Electronic music}}\\n{{See also|List of electronic music genres}}\\n{{columns-list|colwidth=20em|\\n* [[Ambient music|Ambient]]\\n** [[Ambient dub]]\\n** [[Dark ambient]]\\n*** [[Ambient industrial]]\\n*** [[Dungeon synth]]\\n** [[Drone music|Drone]]\\n** [[Illbient]]\\n** [[New-age music|New-age]]\\n*** [[Andean new age music|Andean new-age]]\\n*** [[Neoclassical new-age music|Neoclassical new-age]]\\n*** [[Space music]]\\n** [[Reductionism (music)|Reductionism]]\\n*** [[Lowercase (music)|Lowercase]]\\n*** [[Onkyokei]]\\n* [[Bass music]]\\n** [[Footwork (genre)|Footwork]]\\n** [[Future bass]]\\n*** [[Kawaii future bass]]\\n** [[Jungle terror]]\\n** [[UK bass]]\\n** [[Wave music|Wave]]\\n*** [[Hardwave]]\\n* [[Breakbeat]]\\n** [[Acid breaks]]\\n** [[Baltimore club]]\\n*** [[Jersey club]]\\n*** [[Philly club]]\\n** [[Big beat]]\\n** [[Breakbeat hardcore]]\\n*** [[4-beat]]\\n*** [[Darkcore]]\\n*** [[Hardcore breaks]]\\n** [[Broken beat]]\\n** [[Florida breaks]]\\n** [[Nu skool breaks]]\\n** [[Progressive breaks]]\\n** [[Psychedelic breakbeat]]\\n* [[Chill-out music|Chill-out]]\\n** [[Downtempo]]\\n** [[Psybient]]\\n*** [[Psydub]]\\n** [[Trip hop]] \\n** [[Trip rock]]\\n* [[Chopped and screwed]]\\n* [[Disco]]\\n** [[Afro/cosmic music]]\\n** [[Electro-disco]]\\n*** [[Hi-NRG]]\\n**** [[Eurobeat]]\\n**** [[Eurodance]]\\n***** [[Italo dance]]\\n*** [[Italo disco]]\\n**** [[Spacesynth]]\\n*** [[Space disco]]\\n** [[Eurodisco]]\\n** [[Nu-disco]]\\n** [[Post-disco]]\\n*** [[Boogie (genre)|Boogie]]\\n*** [[City pop]]\\n* [[Drum and bass]]\\n** [[Darkstep]]\\n** [[Drumfunk]]\\n** [[Drumstep]]\\n** [[Hardstep]]\\n** [[Intelligent drum and bass]]\\n*** [[Atmospheric drum and bass]]\\n** [[Jazzstep]]\\n** [[Jump-up (drum and bass)|Jump-up]]\\n** [[Liquid funk]] \\n** [[Neurofunk]]\\n** [[Sambass]]\\n** [[Techstep]]\\n* [[Dub music|Dub]]\\n** [[Dub poetry]]\\n** [[Dubtronica]]\\n* [[Electroacoustic music]]\\n** [[Acousmatic music]]\\n** [[Electroacoustic improvisation]]\\n** [[Live electronic music|Live electronics]]\\n** [[Musique concrète]]\\n** [[Soundscape#In music|Soundscape]]\\n* [[Electronic rock]]\\n** [[Dance-rock]]\\n*** [[Alternative dance]]\\n**** [[Madchester]]\\n***** [[Baggy]]\\n**** [[New rave]]\\n*** [[Dance-punk]]\\n** [[Krautrock]]\\n** [[New wave music|New wave]]\\n*** [[Cold wave (music)|Cold wave]]\\n*** [[Dark wave]]\\n**** [[Neoclassical dark wave]]\\n**** [[Neue Deutsche Todeskunst]]\\n**** [[New rave]]\\n*** [[Ethereal wave]]\\n**** [[Nu-gaze]]\\n*** [[Minimal wave]]\\n*** [[Neue Deutsche Welle]]\\n*** [[New Romantic#Styles of music|New romantic]]\\n*** [[New wave of new wave]]\\n*** [[Sophisti-pop]]\\n*** [[Synth-pop]]\\n**** [[Dance-pop]]\\n***** [[Disco polo]]\\n**** [[Electroclash]]\\n***** [[Electropop]]\\n****** [[Hyperpop]]\\n** [[Post-rock]]\\n** [[Space rock]]\\n** [[Synth-metal]]\\n*** [[Electronicore]]\\n** [[Synth-punk]]\\n* [[Electronica]]\\n** [[Folktronica]]\\n** [[Indietronica]]\\n** [[Jazztronica]]\\n** [[Laptronica]]\\n** [[Livetronica]]\\n** [[Progressive electronic]]\\n*** [[Kosmische musik]]\\n* [[Ethnic electronica]] / regional EDM\\n** [[Asian underground]]\\n** African electronic dance music\\n*** [[Afrobeats]]\\n**** [[Azonto]]\\n*** [[Coupé-décalé]]\\n*** [[Kuduro]]\\n*** [[Mahraganat]]\\n*** [[Shangaan electro]]\\n** [[Budots]]\\n** [[Changa tuki]]\\n** [[Dancehall pop]]\\n** [[Funk carioca]]\\n*** [[Funk ostentação]]\\n*** [[Melodic funk]]\\n*** [[Proibidão]]\\n*** [[Rasteirinha]]\\n** [[Merenhouse]]\\n** [[Nortec]]\\n** [[Rabòday]]\\n** [[Rara tech]]\\n** [[Russ music]]\\n** [[Shamstep]]\\n** [[Tribal guarachero]]\\n** [[Worldbeat]]\\n*** [[Manila sound]]\\n* [[Funk]] fusion genres\\n** [[Acid jazz]]\\n** [[Funktronica]]\\n** [[Synth-funk]]\\n* [[Jungle music|Jungle]]\\n** [[Ragga jungle]]\\n* [[Hardcore (electronic dance music genre)|Hardcore]]\\n** [[Bouncy techno]]\\n** [[Breakcore]]\\n** [[Digital hardcore]]\\n** [[Frenchcore]]\\n** [[Gabber]] \\n*** [[Early hardcore]]\\n*** [[Mainstream hardcore]]\\n** [[Happy hardcore]]\\n*** [[UK hardcore]]\\n** [[Industrial hardcore]]\\n** [[J-core]]\\n** [[Lento violento]]\\n** [[Mákina]]\\n** [[Speedcore]]\\n*** [[Extratone]]\\n*** [[Flashcore]]\\n*** [[Splittercore]]\\n* [[Hardstyle]]\\n** [[Dubstyle]]\\n** [[Jumpstyle]]\\n*[[Hauntology (music)|Hauntology]]\\n** [[Chillwave]]\\n** [[Hypnagogic pop]]\\n** [[Synthwave]]\\n*** [[Darksynth]]\\n*** [[Sovietwave]]\\n** [[Vaporwave]]\\n*** [[Dreampunk]]\\n*** [[Future funk]]\\n*** [[Hardvapour]]\\n*** [[Mallsoft]]\\n*** [[Seapunk]]\\n* [[Hip hop music|Hip hop]] fusion genres\\n** [[Afroswing]]\\n** [[Alternative hip hop]]\\n*** [[Hipster hop]]\\n** [[Cloud rap]]\\n** [[Crunk]]\\n*** [[Crunkcore]]\\n*** [[Snap music]]\\n** [[Electro (music)|Electro]]\\n*** [[Latin freestyle]]\\n** [[Emo rap]]\\n** [[Instrumental hip hop]]\\n** [[Lofi hip hop]]\\n** [[Miami bass]]\\n** [[Mumble rap]]\\n** [[Trap music|Trap]]\\n*** [[Afro trap]]\\n*** [[Drill music|Drill]]\\n**** [[UK drill]]\\n*** [[Latin trap]]\\n*** [[Phonk]]\\n*** [[Trap music (EDM)|Trap (EDM)]]\\n*** [[UK trap]]\\n* [[House music]]\\n** [[Acid house]]\\n*** [[Amapiano]]\\n*** [[Gqom]]\\n*** [[Kidandali]]\\n*** [[Kwaito]]\\n** [[Ambient house]]\\n** [[Balearic beat]]\\n** [[Ball culture#Music|Ballroom]]\\n** [[Bass house (genre)|Bass house]]\\n** [[Blog house]]\\n** [[Brazilian bass]]\\n*** [[Slap house]]\\n** [[Chicago hard house]]\\n** [[Chicago house]]\\n** [[Deep house]]\\n** [[Disco house]]\\n** [[Diva house]]\\n*** [[Hardbag]]\\n** [[Electro house]]\\n*** [[Big room house]] \\n*** [[Complextro]]\\n*** [[Dutch house]] \\n*** [[Fidget house]]\\n*** [[Melbourne bounce]]\\n** [[Electro swing]]\\n** [[French house]]\\n** [[Funky house]]\\n** [[Future house]]\\n** [[Garage house]]\\n** [[Ghetto house]]\\n*** [[Ghettotech]]\\n*** [[Juke house]]\\n** [[Hip house]]\\n** [[Italo house]]\\n** [[Jazz house]]\\n** [[Latin house]]\\n** [[Melodic house]]\\n** [[Microhouse]]\\n** [[Moombahcore]]\\n** [[Moombahton]]\\n*** [[Moombahsoul]]\\n** [[New Jersey sound]]\\n** [[Outsider house]]\\n** [[Progressive house]]\\n** [[Soulful house]]\\n** [[Tech house]]\\n** [[Tribal house]]\\n** [[Tropical house]]\\n** [[UK hard house]]\\n*** [[Hard NRG]]\\n*** [[Pumping house]]\\n**** [[Hardbass]]\\n*** [[Scouse house]]\\n* [[Industrial music|Industrial]] / [[Post-industrial music|post-industrial]]\\n** [[Deconstructed club]]\\n** [[Electro-industrial]]\\n*** [[Dark electro]]\\n**** [[Aggrotech]]\\n** [[Electronic body music|Electronic body music (EBM)]]\\n*** [[Futurepop]]\\n*** [[New beat]]\\n** [[Industrial hip hop]]\\n** [[Industrial metal]]\\n*** [[Cyber metal]]\\n*** [[Neue Deutsche Härte]]\\n** [[Industrial rock]]\\n** [[Martial industrial]]\\n** [[Witch house (genre)|Witch house]]\\n* [[Intelligent dance music|Intelligent dance music (IDM)]]\\n** [[Drill 'n' bass]]\\n** [[Glitch (music)|Glitch]]\\n* [[Neo soul]] \\n* [[Nightcore]]\\n* [[Noise music]]\\n** [[Danger music]]\\n** [[Harsh noise]]\\n*** [[Harsh noise wall]]\\n** [[Japanoise]]\\n**[[Noise pop]]\\n** [[Power electronics (music)|Power electronics]]\\n*** [[Death industrial]]\\n** [[Power noise]]\\n* [[Plunderphonics]]\\n** [[Sampledelia]]\\n* [[Techno]]\\n** [[Acid techno]]\\n** [[Ambient techno]]\\n** [[Birmingham sound]]\\n** [[Bleep techno]]\\n** [[Detroit techno]]\\n** [[Dub techno]]\\n** [[Hardtechno]]\\n*** [[Free tekno]]\\n** [[Industrial techno]]\\n** [[Minimal techno]]\\n** [[Schaffel]]\\n** [[Toytown techno]]\\n* [[Tecno brega]]\\n* [[Trance music]]\\n** [[Acid trance]]\\n** [[Balearic trance]]\\n** [[Dream trance]]\\n** [[Eurotrance]]\\n** [[Goa trance]]\\n*** [[Nitzhonot]]\\n** [[Hard trance]]\\n** [[Progressive trance]]\\n** [[Psychedelic trance]]\\n*** [[Suomisaundi]]\\n** [[Tech trance]]\\n** [[Uplifting trance]]\\n** [[Vocal trance]]\\n* [[UK garage]]\\n** [[2-step garage]]\\n** [[Bassline (music genre)|Bassline]]\\n** [[Breakstep]]\\n** [[Dubstep]]\\n*** [[Brostep]]\\n****[[Neurostep]]\\n*** [[Post-dubstep]]\\n*** [[Reggaestep]]\\n*** [[Riddim (EDM)|Riddim]]\\n*** [[Colour bass]]\\n** [[Future garage]]\\n** [[Grime music|Grime]]\\n*** [[Grindie]]\\n** [[Speed garage]]\\n** [[UK funky]]\\n*** [[Funkstep]]\\n** [[Wonky (music)|Wonky]]\\n* [[Video game music]]\\n** [[Chiptune]]\\n*** [[Bitpop]]\\n*** [[Nintendocore]]\\n*** [[Skweee]]\\n}}\\n\\n===Folk===\\n{{main|Folk music|Contemporary folk}}\\n{{columns-list|colwidth=18em|\\n*[[American folk revival]]\\n*[[Americana (music)|Americana]]\\n*[[Anti-folk]]\\n*[[British folk revival]]\\n*[[Cajun music]]\\n*[[Celtic music]]\\n*[[Chalga]]\\n*[[Corrido]]\\n*[[Creole music]]\\n*[[Filk music|Filk]]\\n*[[Folk noir]]\\n*[[Folk rock]]\\n*[[Folktronica]]\\n**[[Celtic rock]]\\n*[[Freak folk]]\\n*[[Indie folk]]\\n*[[Industrial folk music|Industrial folk]]\\n*[[Mariachi]]\\n**[[Ranchera]]\\n*[[Neofolk]]\\n*[[New Weird America]]\\n*[[Progressive folk music|Progressive folk]]\\n*[[Protest song]]\\n*[[Psychedelic folk]]\\n*[[Singer-songwriter]]\\n**[[Nueva canción]]\\n*[[Skiffle]]\\n*[[Sung poetry]]\\n*[[Tarantella]]/[[Pizzica]]\\n*[[Traditional blues verses]]\\n}}\\n\\n=== Hip Hop ===\\n{{main|Hip hop music}}\\n{{see also|List of hip hop genres}}\\n{{columns-list|colwidth=20em|\\n*[[Alternative hip hop]]\\n**[[Hipster hop]]\\n*[[Beatboxing]]\\n*[[Boom bap]]\\n*[[Bounce music|Bounce]]\\n*[[British hip hop]]\\n**[[Road rap]]\\n*[[Chopped and screwed]]\\n*[[Chopper (rap)|Chopper]]\\n*[[Classic hip hop]]\\n*[[Cloud rap]]\\n*[[Comedy hip hop]]\\n*[[Crunk]]\\n**[[Crunkcore]]\\n*[[Country rap]]\\n*[[East Coast hip hop]]\\n*[[Emo rap]]\\n*[[Freestyle rap]]\\n*[[G-funk]]\\n*[[Hardcore hip hop]]\\n**[[Dirty rap]]\\n**[[Gangsta rap]]\\n**[[Horrorcore]]\\n**[[Memphis rap]]\\n*[[Hip hop soul]]\\n*[[Hyphy]]\\n**[[Jerkin']]\\n*[[Industrial hip hop]]\\n*[[Instrumental hip hop]]\\n*[[Jazz rap]]\\n*[[Latin hip hop]]\\n**[[Chicano rap]]\\n*[[Lofi hip hop]]\\n*[[Miami bass]]\\n*[[Mumble rap]]\\n*[[Nerdcore]]\\n**[[Chap hop]]\\n*[[New jack swing]]\\n*[[Political hip hop]]\\n**[[Conscious hip hop]]\\n*[[Pop rap]]\\n*[[Progressive rap]]\\n*[[Punk rap]]\\n*[[Rap opera]]\\n*[[Rap rock]] \\n**[[Rap metal]]\\n**[[Rapcore]]\\n*[[Christian hip hop]]\\n*[[Jewish hip hop]]\\n*[[Snap music|Snap]]\\n*[[Southern hip hop]]\\n*[[Trap music|Trap]]\\n**[[Drill music|Drill]]\\n***[[Brooklyn drill]]\\n***[[UK drill]] \\n**[[Latin trap]]\\n**[[Phonk]]\\n**[[Tread rap|Tread]]\\n*[[Turntablism]]\\n*[[Underground hip hop]]\\n*[[West Coast hip hop]]\\n}}\\n\\n===Jazz===\\n{{main|Jazz}}\\n{{columns-list|colwidth=20em|\\n*[[Acid jazz]]\\n*[[Afro-Cuban jazz]]\\n*[[Alt-jazz]]\\n*[[Avant-garde jazz]]\\n*[[Bebop]]\\n*[[Big band]]\\n*[[Boogie-woogie]]\\n*[[Bossa nova]]\\n*[[Brazilian Jazz]]\\n*[[British dance band]]\\n*[[Cape jazz]]\\n*[[Chamber jazz]]\\n*[[Continental jazz]]\\n*[[Cool jazz]]\\n*[[Crossover jazz]]\\n*[[Dixieland]]\\n*[[Ethno jazz]]\\n*[[European free jazz]]\\n*[[Free funk]]\\n*[[Free improvisation]]\\n*[[Free jazz]]\\n*[[Gypsy jazz]]\\n*[[Hard bop]]\\n*[[Jazz blues]]\\n*[[Jazz-funk]]\\n*[[Jazz fusion]]\\n*[[Jazz noir]]\\n*[[Jazz rap]]\\n*[[Jazz rock]]\\n*[[Jazztronica]]\\n*[[Kansas City jazz]]\\n*[[Latin jazz]]\\n*[[Livetronica]]\\n*[[M-Base|M-base]]\\n*[[Mainstream jazz]]\\n*[[Modal jazz]]\\n*[[Neo-bop jazz]]\\n*[[Neo-swing]]\\n*[[Nu jazz]]\\n*[[Orchestral jazz]]\\n*[[Post-bop]]\\n*[[Progressive jazz]]\\n*[[Punk jazz]]\\n*[[Samba-jazz]]\\n*[[Shibuya-kei]]\\n*[[Ska jazz]]\\n*[[Smooth jazz]]\\n*[[Soul jazz]]\\n*[[Straight-ahead jazz]]\\n*[[Stride jazz]]\\n*[[Swing music|Swing]]\\n*[[Trad jazz]]\\n*[[Third stream]]\\n*[[Vocal jazz]]\\n*[[West Coast jazz]]\\n}}\\n\\n===Pop===\\n{{main|Pop music}}\\n{{columns-list|colwidth=20em|*[[Adult contemporary]]\\n*[[Adult hits]]\\n*[[Ambient pop]]\\n*[[Arabic pop music]]\\n*[[Art pop]]\\n*[[Avant-pop]]\\n*[[Baroque pop]]\\n*[[Beach music]]\\n*[[Bedroom pop]]\\n*[[Brill Building (genre)|Brill building]]\\n*[[Britpop]]\\n*[[Bubblegum pop]]\\n*[[C-pop]]\\n**[[Cantopop]]\\n**[[Hokkien pop]]\\n**[[Mandopop]]\\n*[[Canción]]\\n*[[Canzone]]\\n*[[Chalga]]\\n*[[Chamber pop]]\\n*[[Chanson]]\\n*[[Christian pop]]\\n*[[Classic hits]]\\n*[[Classical crossover]]\\n*[[Contemporary hit radio]]\\n*[[Country pop]]\\n*[[Cringe pop]]\\n*[[Dance-pop]]\\n*[[Dark pop]]\\n*[[Disco polo]]\\n*[[Electropop]]\\n*[[Europop]]\\n**[[Austropop]]\\n**[[Eurobeat]]\\n**[[French pop music|French pop]]\\n**[[Italo dance]]\\n**[[Italo disco]]\\n**[[Laïkó]]\\n**[[Nederpop]]\\n**[[Neomelodic music]]\\n**[[Nordic popular music]]\\n**[[Russian pop]]\\n*[[Fado]]\\n*[[Folk pop]]\\n*[[Hyperpop]]\\n*[[Indie pop]]\\n**[[Twee pop]]\\n*[[Indian pop]]\\n*[[Iranian pop]]\\n*[[J-pop]]\\n**[[Anime song]]\\n**[[City pop]]\\n**[[Shibuya-kei]]\\n*[[Jangle pop]]\\n*[[Jazz pop]]\\n*[[K-pop]]\\n**[[Korean hip hop]]\\n**[[Korean rock]]\\n**[[T'ong guitar]]\\n**[[Trot (music)|Trot]]\\n*[[Latin ballad]]\\n*[[Latin pop]]\\n**[[Mexican pop music|Mexican pop]]\\n*[[New Pop]]\\n*[[New Romantic]]\\n**[[Oldies]]\\n*[[Rhythmic oldies]]\\n*[[Operatic pop]]\\n*[[Original Pilipino Music|OPM]]\\n**[[Pinoy pop]]\\n*[[Pop rap]]\\n*[[Pop rock]]\\n**[[Pop punk]]\\n***[[Emo pop]]\\n***[[Neon pop]]\\n**[[Power pop]]\\n**[[Soft rock]]\\n**[[Surf pop]]\\n**[[Yacht rock]]\\n*[[Pop soul]]\\n*[[Progressive pop]]\\n*[[Psychedelic pop]]\\n*[[Rebetiko]]\\n*[[Rhythmic adult contemporary]]\\n*[[Rhythmic contemporary]]\\n*[[Schlager music|Schlager]]\\n*[[Sophisti-pop]]\\n*[[Space age pop]]\\n*[[Sunshine pop]]\\n*[[Swamp pop]]\\n*[[Synth-pop]]\\n*[[Teen pop]]\\n*[[Traditional pop music|Traditional pop]]\\n*[[Turbo-folk]]\\n*[[Turkish pop music|Turkish pop]]\\n*[[Urban adult contemporary]]\\n*[[Urban contemporary music]]\\n*[[Vispop]]\\n*[[Wonky pop]]\\n*[[Worldbeat]]\\n*[[Yé-yé]]\\n}}\\n\\n===R&B===\\n{{main|Rhythm and blues}}\\n{{columns-list|colwidth=20em|\\n*[[Alternative R&B]]\\n*[[Classic soul]]\\n*[[Contemporary R&B]]\\n*[[Disco]]\\n*[[Freestyle music|Freestyle]]\\n**[[Go-go]]\\n*[[Funk]]\\n**[[Deep funk]]\\n**[[Minneapolis Sound]]\\n**[[Psychedelic funk]]\\n**[[Synth-funk]]\\n*[[Gospel music]]\\n**[[Southern gospel]]\\n**[[Urban contemporary gospel]]\\n*[[New jack swing]]\\n*[[Post-disco]]\\n**[[Boogie (genre)|Boogie]]\\n*[[Rhythm and blues]]\\n**[[Doo-wop]]\\n*[[Soul music|Soul]]\\n**[[Blue-eyed soul]]\\n**[[Brown-eyed soul]]\\n**[[Cinematic soul]]\\n**[[Hip hop soul]]\\n**[[Neo soul]]\\n**[[Northern soul]]\\n**[[Progressive soul]]\\n**[[Psychedelic soul]]\\n**[[Quiet storm]]\\n**[[Southern soul]]\\n}}\\n\\n===Rock===\\n{{main|Rock music}}\\n*[[Active rock]]\\n*[[Adult album alternative]]\\n*[[Soft rock|Adult-oriented rock]]\\n*[[Afro rock]]\\n*[[Album oriented rock]]\\n{{columns-list|colwidth=20em|*[[Alternative rock]]\\n**[[Alternative dance]]\\n**[[Britpop]]\\n***[[Post-Britpop]]\\n**[[Dream pop]]\\n***[[Shoegaze]]\\n****[[Blackgaze]]\\n**[[Grunge]]\\n***[[Post-grunge]]\\n***[[Soft grunge]]\\n**[[Indie rock]]\\n***[[Dunedin sound]]\\n***[[Kindie rock]]\\n***[[Math rock]]\\n***[[Midwest emo]]\\n***[[Post-punk revival]]\\n***[[Slacker rock]]\\n**[[Madchester]]\\n***[[Baggy]]\\n**[[Noise pop]]\\n**[[Sadcore]]\\n**[[Slowcore]]\\n*[[American rock]]\\n*[[Anatolian rock]]\\n*[[Arabic rock]]\\n*[[Arena rock]]\\n*[[Beat music|Beat]]\\n**[[British Invasion]]\\n**[[Freakbeat]]\\n**[[Mod (subculture)]]\\n**[[Nederbeat]]\\n*[[Blues rock]]\\n**[[Boogie rock]]\\n*[[Brazilian rock]]\\n**[[Samba rock]]\\n*[[British rhythm and blues]]\\n*[[British rock music]]\\n*[[Chamber pop]]\\n*[[Chinese rock]]\\n*[[Christian rock]]\\n*[[Classic alternative]]\\n*[[Classic rock]]\\n*[[Comedy rock]]\\n*[[Country rock]]\\n*[[Dark cabaret]]\\n*[[Death 'n' roll]]\\n*[[Deathrock]]\\n*[[Palm Desert Scene|Desert rock]]\\n*[[Electronic rock]]\\n**[[Electroclash]]\\n**[[Electronicore]]\\n**[[New wave music|New wave]]\\n***[[Cold wave (music)|Cold wave]]\\n***[[Dark wave]]\\n****[[Ethereal wave]]\\n*[[Emo]]\\n*[[Experimental rock]]\\n**[[Art rock]]\\n**[[Industrial rock]]\\n**[[Post-punk]]\\n***[[Dance-punk]]\\n***[[Dance-rock]]\\n***[[Gothic rock]]\\n***[[No wave]]\\n***[[Noise rock]]\\n**[[Post-rock]]\\n***[[Post-metal]]\\n*[[Folk rock]]\\n**[[British folk rock]]\\n**[[Celtic rock]]\\n**[[Medieval folk rock]]\\n*[[Funk rock]]\\n*[[Garage rock]]\\n**[[Proto-punk]]\\n*[[Geek rock]]\\n*[[Glam rock]]\\n*[[Gothic rock]]\\n**[[Pagan rock]]\\n*[[Hard rock]]\\n*[[Heartland rock]]\\n*[[Heavy metal music]]\\n*[[Indian rock]]\\n*[[Iranian rock]]\\n*[[Instrumental rock]]\\n*[[Japanese rock]]\\n*[[Jazz fusion]]\\n**[[Jazz rock]]\\n*[[Korean rock]]\\n*[[Latin rock]]\\n**[[Chicano rock]]\\n**[[Rock en español]]\\n**[[Rock music in Mexico]]\\n*[[Mainstream rock]]\\n*[[Mangue bit]]\\n*[[Modern rock]]\\n*[[Occult rock]]\\n*[[Paisley Underground]]\\n*[[Pop rock]]\\n**[[Jangle pop]]\\n**[[Power pop]]\\n**[[Soft rock]]\\n***[[Yacht rock]]\\n*[[Progressive rock]]\\n**[[Art rock]]\\n**[[Avant-prog]]\\n***[[Rock in Opposition]]\\n**[[Canterbury scene]]\\n**[[Flamenco rock]]\\n**[[Krautrock]]\\n**[[Neo-progressive rock]]\\n**[[New prog]]\\n**[[Post-Progressive|Post-progressive]]\\n**[[Progressive rock (radio format)]]\\n**[[Proto-prog]]\\n**[[Space rock]]\\n**[[Symphonic Rock]]\\n**[[Zeuhl]]\\n*[[Psychedelic rock]]\\n**[[Acid rock]]\\n**[[Freak scene]]\\n**[[Neo-psychedelia]]\\n**[[Raga rock]]\\n*[[Pub rock (Australia)]]\\n*[[Pub rock (United Kingdom)]]\\n*[[Punk rock]]\\n*[[Rap rock]]\\n**[[Rapcore]]\\n*[[Reggae rock]]\\n*[[Rock and roll]]\\n**[[Rockabilly]]\\n***[[Gothabilly]]\\n***[[Hellbilly]]\\n***[[Psychobilly]]\\n*[[Rock music in France]]\\n*[[Rock opera]]\\n*[[Roots rock]]\\n*[[Southern rock]]\\n*[[Stoner rock]]\\n*[[Swamp rock]]\\n*[[Sufi rock]]\\n*[[Surf rock]]\\n*[[Tropical rock]]\\n*[[Viking rock]]\\n*[[Visual kei]]\\n**[[Nagoya kei]]\\n*[[Wizard rock]]\\n*[[Worldbeat]]\\n*[[World fusion]]\\n}}\\n\\n===Metal===\\n{{main|Metal music}}\\n{{columns-list|colwidth=20em|\\n*[[Alternative metal]]\\n**[[Funk metal]]\\n**[[Nu metal]]\\n**[[Rap metal]]\\n***[[Rapcore]]\\n*[[Avant-garde metal]]\\n**[[Drone metal]]\\n**[[Post-metal]]\\n*[[Black metal]]\\n**[[Depressive suicidal black metal]]\\n**[[Blackened death metal]]\\n**[[Atmospheric black metal]]\\n**[[Blackgaze]]\\n**[[Melodic black metal]]\\n**[[National Socialist black metal]]\\n**[[Symphonic black metal]]\\n**[[Viking metal]]\\n*[[Christian metal]]\\n**[[Unblack metal]]\\n*[[Death metal]]\\n**[[Death 'n' roll]]\\n**[[Deathgrind]]\\n**[[Melodic death metal]]\\n**[[Technical death metal]]\\n*[[Doom metal]]\\n**[[Death-doom]]\\n**[[Stoner-doom]]\\n*[[Extreme metal]]\\n*[[Folk metal]]\\n**[[Celtic metal]]\\n**[[Medieval metal]]\\n**[[Pagan metal]]\\n*[[Glam metal]]\\n*[[Gothic metal]]\\n*[[Industrial metal]]\\n**[[Electronic metal]]\\n*[[Kawaii metal]]\\n*[[Latin metal]]\\n*[[Mathcore|Math metal]]\\n*[[Metalcore]]\\n**[[Deathcore]]\\n**[[Mathcore]]\\n**[[Melodic metalcore]]\\n**[[Progressive metalcore]]\\n*[[Neoclassical metal]]\\n*[[Neue Deutsche Härte]]\\n*[[New wave of American heavy metal]]\\n*[[New wave of British heavy metal]]\\n*[[New wave of traditional heavy metal]]\\n*[[Nintendocore]]\\n*[[Pirate metal]]\\n*[[Pop metal]]\\n*[[Power metal]]\\n*[[Progressive metal]]\\n**[[Djent]]\\n*[[Sludge metal]]\\n*[[Speed metal]]\\n*[[Symphonic metal]]\\n*[[Thrash metal]]\\n**[[Bandana thrash]]\\n**[[Crossover thrash]]\\n**[[Groove metal]]\\n**[[Thrashcore]]\\n}}\\n\\n===Punk===\\n{{main|Punk rock}}\\n{{columns-list|colwidth=20em|\\n*[[Afro-punk]]\\n*[[Anarcho punk]]\\n**[[Crust punk]]\\n***[[D-beat]]\\n*[[Art punk]]\\n*[[Avant punk]]\\n*[[Christian punk]]\\n*[[Crust punk]]\\n*[[Deathpunk]]\\n*[[Deathrock]]\\n*[[Electropunk]]\\n**[[Cyberpunk]]\\n**[[Dance-punk]]\\n**[[Digital hardcore]]\\n**[[Dreampunk]]\\n**[[Synth punk]]\\n*[[Folk punk]]\\n**[[Celtic punk]]\\n**[[Cowpunk]]\\n**[[Gypsy punk]]\\n**[[Scottish Gaelic punk]]\\n*[[Garage punk (fusion genre)|Garage punk]]\\n*[[German punk]]\\n*[[Glam punk]]\\n*[[Gothic punk]]\\n*[[Grindcore]]\\n**[[Crustgrind]]\\n**[[Electrogrind]]\\n**[[Goregrind]]\\n**[[Noisegrind]]\\n**[[Pornogrind]]\\n*[[Hardcore punk]]\\n**[[Bardcore]]\\n**[[Beatdown hardcore]]\\n**[[Christian hardcore]]\\n**[[Crabcore]]\\n**[[Crunkcore]]\\n**[[Electronicore]]\\n**[[Krishnacore]]\\n**[[Melodic hardcore]]\\n**[[Positive hardcore]]\\n**[[Post-hardcore]]\\n**[[Queercore]]\\n**[[Taqwacore]]\\n**[[Emo]]\\n***[[Emo pop]]\\n***[[Screamo]]\\n**[[Powerviolence]]\\n**[[Street punk]]\\n*[[Horror punk]]\\n*[[Latino punk]]\\n*[[Nazi punk]]\\n*[[Oi!]]\\n*[[Pop punk]]\\n**[[Easycore]]\\n**[[Neon pop]]\\n*[[Post-punk]]\\n**[[Dance-punk]]\\n**[[Post-punk revival]]\\n*[[Proto-punk]]\\n*[[Psychobilly]]\\n**[[Punkabilly]]\\n*[[Punk blues]]\\n*[[Punk jazz]]\\n*[[Punk pathetique]]\\n*[[Punk rap]]\\n*[[Punk rock]]\\n*[[Reggae punk]]\\n*[[Riot grrrl]]\\n*[[Ska punk]]\\n*[[Skate punk]]\\n*[[Street punk]]\\n*[[Surf punk (music genre)|Surf punk]]\\n*[[Trallpunk]]\\n}}\\n\\n==Regional==\\n{{See also|List of cultural and regional genres of music}}\\n\\n===African===\\n{{columns-list|colwidth=20em|\\n*[[African heavy metal]]\\n*[[African hip hop]]\\n*[[African popular music]]\\n*[[Afro pop]]\\n*[[Afrobeat]]\\n*[[Afrobeats]]\\n*[[Amapiano]]\\n*[[Apala]]\\n*[[Arabesque (Turkish music)|Arabesque]]\\n*[[Benga music|Benga]]\\n*[[Bikutsi]]\\n*[[Bongo flava]]\\n*[[Boomba music|Boomba]]\\n* [[Bubu music]]\\n*[[Cape jazz]]\\n*[[Chaabi]]\\n*[[Chalga]]\\n*[[Chaoui music]]\\n*[[Chimurenga music|Chimurenga]]\\n*[[Congolese rumba]]\\n*[[Coupé-Décalé]]\\n*[[Fuji music]]\\n*[[Genge]]\\n*[[Gnawa]]\\n*[[Gqom]]\\n*[[Gumbe]]\\n*[[Highlife]]\\n*[[Hiplife]]\\n*[[Igbo highlife]]\\n*[[Igbo rap]]\\n*[[Isicathamiya]]\\n*[[Jit]]\\n*[[Jùjú music|Jùjú]]\\n*[[Kadongo Kamu]]\\n*[[Kizomba]]\\n*[[Kuduro]]\\n*[[Kwaito]]\\n*[[Kwela]]\\n*[[Lingala]]\\n*[[Makossa]]\\n*[[Maloya]]\\n*[[Ma'luf]]\\n*[[Marabi]]\\n*[[Marrabenta]]\\n*[[Mbalax]]\\n*[[Mbaqanga]]\\n*[[Mbube (genre)|Mbube]]\\n*[[Morna (music)|Morna]]\\n*[[Ndombolo]]\\n*[[Palm-wine music|Palm-wine]]\\n*[[Raï]]\\n*[[Rumba]]\\n*[[Sakara music|Sakara]]\\n*[[Sega music|Sega]]\\n*[[Seggae]]\\n*[[Semba]]\\n*[[Shangaan electro]]\\n*[[Soukous]]\\n**[[Kwassa kwassa]]\\n*[[Taarab]]\\n*[[Zamrock]]\\n*[[Zouglou]]\\n}}\\n\\n=== American ===\\n'''North American'''\\n{{columns-list|colwidth=20em|\\n* [[Ragtime]]<ref>{{Cite web |last=Edwards |first=Bill |title=RagPiano.com - What Are Ragtime and Old-Time Music |url=http://ragpiano.com/ragtime1.shtml |access-date=2022-11-30 |website=RagPiano.com |language=en}}</ref>\\n**[[Cakewalk]]\\n**[[Classic rag]]\\n**[[Folk ragtime]]\\n**[[Honky-tonk|Honky-tonk piano]]\\n**[[Novelty piano]]\\n**[[Stomp (jazz)|Stomp]]\\n**[[Stride (music)|Stride piano]]\\n}}\\n\\n===Eastern Europe===\\n{{columns-list|colwidth=20em|\\n* [[Rautalanka]] (Finnish surf-rock)\\n* Tuvan\\n* [[Balkan brass]]\\n* [[Klezmer]]\\n}}\\n\\n===Asian===\\n{{main|Music of Asia}}\\n{{columns-list|colwidth=22em|\\n'''Central Asian'''\\n*[[Shashmaqam]]\\n*[[Pashto music]]\\n*[[Music of Kazakhstan#Traditional music|Kazakh folk music]]\\n*[[Music of Kyrgyzstan#Traditional music|Kyrgyz folk music]]\\n*[[Music of Mongolia#Traditional music|Mongolian folk music]]\\n*[[Music of Tajikistan#Tajik folk music|Tajik folk music]]\\n\\n'''East Asian'''\\n\\n''Chinese:''\\n*[[C-pop]]\\n**[[Cantopop]]\\n**[[Hokkien pop]]\\n**[[Mandopop]]\\n*[[Chinese hip hop]]\\n*[[Music of China#Folk music|Chinese folk music]]\\n*[[Chinese rock]]\\n''Hong Kong, China:''\\n*[[Hong Kong English pop]]\\n*[[Hong Kong hip hop]]\\n''Taiwanese:''\\n*[[Taiwanese hip hop]]\\n*[[Hokkien pop|Taiwanese pop]]\\n*[[Taiwanese rock]]\\n''Japanese:''\\n*[[Anime song]]\\n*[[Enka]]\\n*[[J-pop]]\\n*[[Japanese hip hop]]\\n*[[Japanese jazz]]\\n*[[Japanese rock]]\\n*[[Kayōkyoku]]\\n''Korean:''\\n*[[K-pop]]\\n*[[Korean folk music]]\\n*[[Korean hip hop]]\\n*[[Korean rock]]\\n*[[Trot (music)|Trot]]\\n\\n'''South Asian'''\\n*[[Asian Underground]]\\n*[[Baul]]\\n*[[Bhangra (music)|Bhangra]]\\n*[[Bhawaiya]]\\n*[[Dohori]]\\n*[[Filmi]]\\n*[[Indian classical music|Indian classical]]\\n**[[Carnatic music|Carnatic]] \\n**[[Hindustani Classical Music|Hindustani classical]]\\n*[[Indian jazz]]\\n*[[Indian pop]]\\n*[[Indian rock]]\\n**[[Raga rock]]\\n*[[Kuthu]]\\n*[[Lavani]]\\n*[[Morlam]]\\n*[[Raga|Ragini]]\\n*[[Sufi rock]]\\n''[[Music of Sri Lanka|Sri Lankan]]:''\\n*[[Baila]]\\n*[[Sri Lankan hip hop]]\\n'''Southeast Asian'''\\n{{main|Music of Southeast Asia}}\\n*[[Gamelan]]\\n''Malaysian:''\\n*[[Malaysian hip hop]]\\n*[[Malaysian pop]]\\n*[[Malaysian rock]]\\n''Indonesian:''\\n*[[Dangdut]]\\n*[[Indo pop]]\\n**[[Sundanese pop]]\\n*[[Keroncong]]\\n''Thai:''\\n*[[Luk thung]]\\n**[[Luk krung]]\\n*[[Thai pop music|Thai pop]]\\n**[[String (Thai pop)|Thai string pop]]\\n''Filipino:''\\n*[[Manila sound]]\\n**[[Original Pilipino Music|Original Pilipino]]\\n*[[Pinoy pop]]\\n*[[Pinoy rock]]\\n''Lao:''\\n*[[L-pop]]\\n*[[Mor lam]]\\n''Vietnamese:''\\n*[[V-pop]]\\n}}\\n\\n===Middle Eastern===\\n{{main|Middle Eastern music}}\\n*[[Arabic music]]\\n**[[Arabic pop music]]\\n*[[Fann at-Tanbura]]\\n*[[Fijiri]]\\n*[[Khaliji (music)|Khaliji]]\\n*[[Liwa (music)|Liwa]]\\n*[[Sawt (music)|Sawt]]\\n\\n===Caribbean and Caribbean-influenced===\\n{{main|List of Caribbean music genres}}\\n{{columns-list|colwidth=20em|\\n*[[Baithak Gana]]\\n*[[Bouyon music|Bouyon]]\\n*[[Cadence-lypso]]\\n*[[Calypso music|Calypso]]\\n*[[Cha-cha-chá (music)|Cha-cha-chá]]\\n*[[Chutney music|Chutney]]\\n**[[Chutney soca]]\\n**[[Chutney parang]]\\n*[[Compas]]\\n*[[Dancehall]]\\n*[[Mambo (music)|Mambo]]\\n*[[Mento]]\\n*[[Merengue music|Merengue]]\\n*[[Méringue]]\\n*[[Mozambique (music)|Mozambique]]\\n*[[Pichakaree]]\\n*[[Punta]]\\n*[[Punta rock]]\\n*[[Rake & Scrape]]\\n*[[Rasin]]\\n*[[Reggae]]\\n**[[Dub music|Dub]]\\n**[[Lovers rock]]\\n**[[Ragga]]\\n**[[Reggae fusion]]\\n**[[Ragga jungle]]\\n***[[Reggae rock]]\\n**[[Reggaeton]]\\n**[[Roots reggae]]\\n*[[Rocksteady]]\\n*[[Rhumba|Rumba]]\\n*[[Salsa music|Salsa]]\\n*[[Ska]]\\n**[[Ska punk]]\\n**[[Two-tone (music genre)|Two-tone]]\\n*[[Soca music|Soca]]\\n**[[Power soca]]\\n*[[Son cubano]]\\n*[[Songo music|Songo]]\\n*[[Timba]]\\n*[[Twoubadou]]\\n*[[Zouk (musical movement)|Zouk]]}}\\n\\n===Latin===\\n{{main|Latin music (genre)|l1=Latin music}} \\n{{columns-list|colwidth=20em|\\n'''Brazilian'''\\n{{main|Music of Brazil}}\\n* [[Axé music|Axé]]\\n* [[Brazilian rock]]\\n* [[Brega (music)|Brega]]\\n** [[Tecnobrega]]\\n* [[Choro]]\\n* [[Forró]]\\n* [[Frevo]]\\n* [[Funk carioca]]\\n* [[Lambada]]\\n** Zouk-Lambada\\n* [[Maracatu]]\\n* [[Música popular brasileira]]\\n** [[Tropicalia]]\\n* [[Música sertaneja]]\\n* [[Samba]]\\n** [[Pagode]]\\n** [[Samba rock]]\\n\\n'''Hispanic'''\\n*[[Boogaloo]]\\n*[[Bullerengue]]\\n*[[Flamenco]]\\n**[[Cantes de ida y vuelta]]\\n**[[Fandangos]]\\n**[[Soleá]]\\n***[[Alegrías]]\\n***[[Bulerías]]\\n***[[Peteneras]]\\n**[[Tango (flamenco)|Tango]]\\n**[[Toná]]\\n***[[Martinetes]]\\n***[[Tonás]]\\n*[[Grupera]]\\n*[[Hispanic rhythmic]]\\n*[[Latin Christian music|Latin Christian]]\\n*[[Latin pop]]\\n**[[Latin ballad]]\\n*[[Latin rock]]\\n**[[Latin alternative]]\\n**[[Rock en Español]]\\n*[[Latin jazz]]\\n**[[Afro-Cuban jazz]]\\n**[[Bossa nova]]\\n*[[Mariachi]]\\n*[[Ranchera]]\\n*[[Reggaeton]]\\n**[[Latin trap]]\\n*[[Regional Mexican]]\\n**[[Banda (music)|Banda]]\\n**[[Norteño (music)|Norteño]]\\n*[[Tango music|Tango]]\\n*[[Tropical music|Tropical]]\\n**[[Bachata (music)|Bachata]]\\n**[[Bolero]]\\n**[[Criolla]]\\n**[[Cumbia]]\\n***[[:es:Chicha (música)|Chicha]]\\n***[[Porro]]\\n**[[Guajira (music)|Guajira]]\\n**[[Mambo (music)|Mambo]]\\n**[[Merengue music|Merengue]]\\n**[[Música popular (Colombia)]]\\n**[[Cuban rumba|Rumba]]\\n**[[Salsa music|Salsa]]\\n***[[Salsa romántica]]\\n**[[Son (music)|Son]]\\n**[[Tejano music|Tejano]]\\n**[[Timba]]\\n**[[Tropipop]]\\n**[[Urbano music]]\\n**[[Vallenato]]\\n}}\\n\\n==Religious==\\n{{main|Religious music}}\\n{{Expand section|date=November 2021}}\\n*[[Buddhist music]]\\n*[[Christian music]]\\n**[[Contemporary Christian music]]\\n**[[Contemporary worship music]]\\n**[[Christian Rock]]\\n**[[Easy Listening]]\\n**[[Country Gospel]]\\n** [[Church music]]\\n***[[Gospel music|Gospel]]\\n***[[Worship]]\\n***[[Hymn]]s\\n***[[Jesus Music]]\\n** [[Liturgical music]]\\n** [[Spiritual (music)|Spirituals]]\\n** [[Gregorian chant]]\\n* [[Islamic music]]\\n*[[Modern pagan music]]\\n*[[New-age music]]\\n*[[Shamanic music]]\\n\\n==Traditional folk==\\n{{main|Folk music}}{{see also|List of folk music traditions}}\\n{{Expand section|date=November 2021}}\\n**[[American patriotic music]]\\n**[[Christmas music]]\\n**[[Fado]]\\n**[[Huayno]]\\n**[[Polka]]\\n**[[Son mexicano]]\\n**[[Música criolla]]\\n\\n==Other==\\n*[[Children's music]]\\n*[[Dance music]]\\n*[[Incidental music]] or ''music for stage and screen'': music written for the score of a [[film]], [[Play (theatre)|play]], [[Musical theatre|musicals]], or other spheres, such as [[filmi]], [[video game music]], [[music hall]] songs and [[Show tune|showtunes]] and others\\n*[[Ballroom dance]] music: [[pasodoble]], [[cha-cha-cha (music)|cha cha cha]] and others \\n*Patriotic music: [[Martial music|military music]], [[March (music)|marches]], [[national anthem]]s, [[War song]]s and related compositions\\n*Regional and national music with no significant commercial impact abroad, except when it is a version of an international genre, such as: [[traditional music]], [[oral tradition]]s, [[Sea shanty|sea shanties]], [[work song]]s, [[nursery rhyme]]s, [[Arabesque music|Arabesque]] and [[indigenous music]]. In North America and Western Europe, regional and national genres that are not from the Western world are sometimes classified as [[world music]].\\n*[[Yodeling]]\\n\\nThese categories are not exhaustive. A music platform, Gracenote, listed more than 2000 music genres (included by those created by ordinary music lovers, who are not involved within the music industry, these being said to be part of a 'folksonomy', i.e. a taxonomy created by non-experts). Most of these genres were created by music labels to target new audiences, however classification is useful to find music and distribute it.\\n\\n==See also==\\n{{Portal|Lists|Music}}\\n* [[Genealogy of musical genres]]\\n\\nThis list is split into four separate pages:\\n* [[List of styles of music: A–F]]                            \\n* [[List of styles of music: G–M]]                            \\n* [[List of styles of music: N–R]]                           \\n* [[List of styles of music: S–Z]]\\n* [[List of country genres]]\\n* [[List of electronic music genres]]\\n* [[Styles of house music]]\\n* [[List of industrial music genres]]\\n* [[List of trance genres]]\\n* [[List of hip hop genres]]\\n* [[List of jazz genres]]\\n* [[Reggae genres]]\\n* [[List of rock genres]]\\n* [[Heavy metal genres]]\\n* [[Punk rock subgenres]]\\n* [[List of hardcore punk subgenres]]\\n* [[List of microgenres]]\\n* [[List of music styles that incorporate the accordion]]\\n* [[Styles of pop music]]\\n\\n==References==\\n{{Reflist}}\\n\\n==Bibliography==\\n*Borthwick, Stuart, & Moy, Ron (2004) ''Popular Music Genres: An Introduction''. Edinburgh: Edinburgh University Press.\\n*Fabbri, Franco (1982) ''A Theory of Popular Music Genres: Two Applications''. In ''Popular Music Perspectives'', edited by David Horn and Philip Tagg, 52–81. Göteborg and Exeter: A. Wheaton & Co., Ltd.\\n*[[Simon Frith|Frith, Simon]] (1996) ''Performing Rites: On the Value of Popular Music''. Cambridge, Massachusetts: Harvard University Press.\\n*Holt, Fabian (2007) ''Genre in Popular Music''. Chicago: University of Chicago Press.\\n*Negus, Keith (1999) ''Music Genres and Corporate Cultures''. London and New York: Routledge.\\n\\n==External links==\\n* [https://musicmap.info/ The genealogy and history of popular music genres]\\n* [https://web.archive.org/web/20180704133617/http://www.wido-software.de:80/popgenres.html Genres of popular music - Interactive relationships diagram]\\n\\n{{Western music genres}}\\n{{Music topics}}\\n\\n{{DEFAULTSORT:Music Genres And Styles, List Of}}\\n[[Category:Popular music|*]]\\n[[Category:Lists of music genres|*]]\""
      ]
     },
     "execution_count": 5,
     "metadata": {},
     "output_type": "execute_result"
    }
   ],
   "source": [
    "content"
   ]
  },
  {
   "cell_type": "code",
   "execution_count": 6,
   "id": "de106cb1-bf07-4130-9567-5351456c11eb",
   "metadata": {},
   "outputs": [],
   "source": [
    "music_list = get_references(content)"
   ]
  },
  {
   "cell_type": "code",
   "execution_count": 7,
   "id": "4810d93b-812b-42bf-b3bc-8cbe611db179",
   "metadata": {},
   "outputs": [],
   "source": [
    "better_music_list = copy.copy(music_list)"
   ]
  },
  {
   "cell_type": "code",
   "execution_count": 8,
   "id": "bf3d8507-c27a-4c74-b22d-3d1492f7d6aa",
   "metadata": {},
   "outputs": [],
   "source": [
    "for x in better_music_list:\n",
    "    if x + ' (music)' in better_music_list:\n",
    "        better_music_list.remove(x)\n",
    "    elif x + ' music' in better_music_list:\n",
    "        better_music_list.remove(x)\n",
    "    elif x + ' in music' in better_music_list:\n",
    "        better_music_list.remove(x)\n",
    "    elif x + ' (genre)' in better_music_list:\n",
    "        better_music_list.remove(x)\n",
    "\n"
   ]
  },
  {
   "cell_type": "code",
   "execution_count": 9,
   "id": "0243d677-be1f-425f-b90e-6c5ce285e5af",
   "metadata": {},
   "outputs": [
    {
     "ename": "UnicodeEncodeError",
     "evalue": "'charmap' codec can't encode character '\\u014d' in position 0: character maps to <undefined>",
     "output_type": "error",
     "traceback": [
      "\u001b[1;31m---------------------------------------------------------------------------\u001b[0m",
      "\u001b[1;31mUnicodeEncodeError\u001b[0m                        Traceback (most recent call last)",
      "Cell \u001b[1;32mIn[9], line 3\u001b[0m\n\u001b[0;32m      1\u001b[0m \u001b[38;5;28;01mwith\u001b[39;00m \u001b[38;5;28mopen\u001b[39m (\u001b[38;5;124m'\u001b[39m\u001b[38;5;124mmusic_genres_new.txt\u001b[39m\u001b[38;5;124m'\u001b[39m, \u001b[38;5;124m'\u001b[39m\u001b[38;5;124mw\u001b[39m\u001b[38;5;124m'\u001b[39m) \u001b[38;5;28;01mas\u001b[39;00m f:\n\u001b[0;32m      2\u001b[0m     \u001b[38;5;28;01mfor\u001b[39;00m x \u001b[38;5;129;01min\u001b[39;00m better_music_list:\n\u001b[1;32m----> 3\u001b[0m         \u001b[43mf\u001b[49m\u001b[38;5;241;43m.\u001b[39;49m\u001b[43mwritelines\u001b[49m\u001b[43m(\u001b[49m\u001b[43mx\u001b[49m\u001b[43m \u001b[49m\u001b[38;5;241;43m+\u001b[39;49m\u001b[43m \u001b[49m\u001b[38;5;124;43m'\u001b[39;49m\u001b[38;5;130;43;01m\\n\u001b[39;49;00m\u001b[38;5;124;43m'\u001b[39;49m\u001b[43m)\u001b[49m\n",
      "File \u001b[1;32m~\\anaconda3\\envs\\nerf\\lib\\encodings\\cp1252.py:19\u001b[0m, in \u001b[0;36mIncrementalEncoder.encode\u001b[1;34m(self, input, final)\u001b[0m\n\u001b[0;32m     18\u001b[0m \u001b[38;5;28;01mdef\u001b[39;00m \u001b[38;5;21mencode\u001b[39m(\u001b[38;5;28mself\u001b[39m, \u001b[38;5;28minput\u001b[39m, final\u001b[38;5;241m=\u001b[39m\u001b[38;5;28;01mFalse\u001b[39;00m):\n\u001b[1;32m---> 19\u001b[0m     \u001b[38;5;28;01mreturn\u001b[39;00m \u001b[43mcodecs\u001b[49m\u001b[38;5;241;43m.\u001b[39;49m\u001b[43mcharmap_encode\u001b[49m\u001b[43m(\u001b[49m\u001b[38;5;28;43minput\u001b[39;49m\u001b[43m,\u001b[49m\u001b[38;5;28;43mself\u001b[39;49m\u001b[38;5;241;43m.\u001b[39;49m\u001b[43merrors\u001b[49m\u001b[43m,\u001b[49m\u001b[43mencoding_table\u001b[49m\u001b[43m)\u001b[49m[\u001b[38;5;241m0\u001b[39m]\n",
      "\u001b[1;31mUnicodeEncodeError\u001b[0m: 'charmap' codec can't encode character '\\u014d' in position 0: character maps to <undefined>"
     ]
    }
   ],
   "source": [
    "with open ('music_genres_new.txt', 'w') as f:\n",
    "    for x in better_music_list:\n",
    "        f.writelines(x + '\\n')"
   ]
  },
  {
   "cell_type": "code",
   "execution_count": null,
   "id": "f000de16-cc28-47f8-870d-80c93419db83",
   "metadata": {},
   "outputs": [],
   "source": [
    "# I then manually go through music genres and manually remove some of the values"
   ]
  },
  {
   "cell_type": "code",
   "execution_count": 10,
   "id": "b247b105-5f86-4485-ad97-8a95ecfe9e26",
   "metadata": {},
   "outputs": [
    {
     "ename": "UnicodeEncodeError",
     "evalue": "'charmap' codec can't encode character '\\u014d' in position 0: character maps to <undefined>",
     "output_type": "error",
     "traceback": [
      "\u001b[1;31m---------------------------------------------------------------------------\u001b[0m",
      "\u001b[1;31mUnicodeEncodeError\u001b[0m                        Traceback (most recent call last)",
      "Cell \u001b[1;32mIn[10], line 3\u001b[0m\n\u001b[0;32m      1\u001b[0m \u001b[38;5;28;01mwith\u001b[39;00m \u001b[38;5;28mopen\u001b[39m (\u001b[38;5;124m'\u001b[39m\u001b[38;5;124mmusic_genres.txt\u001b[39m\u001b[38;5;124m'\u001b[39m, \u001b[38;5;124m'\u001b[39m\u001b[38;5;124mw\u001b[39m\u001b[38;5;124m'\u001b[39m) \u001b[38;5;28;01mas\u001b[39;00m f:\n\u001b[0;32m      2\u001b[0m     \u001b[38;5;28;01mfor\u001b[39;00m x \u001b[38;5;129;01min\u001b[39;00m better_music_list:\n\u001b[1;32m----> 3\u001b[0m         \u001b[43mf\u001b[49m\u001b[38;5;241;43m.\u001b[39;49m\u001b[43mwritelines\u001b[49m\u001b[43m(\u001b[49m\u001b[43mx\u001b[49m\u001b[43m \u001b[49m\u001b[38;5;241;43m+\u001b[39;49m\u001b[43m \u001b[49m\u001b[38;5;124;43m'\u001b[39;49m\u001b[38;5;130;43;01m\\n\u001b[39;49;00m\u001b[38;5;124;43m'\u001b[39;49m\u001b[43m)\u001b[49m\n",
      "File \u001b[1;32m~\\anaconda3\\envs\\nerf\\lib\\encodings\\cp1252.py:19\u001b[0m, in \u001b[0;36mIncrementalEncoder.encode\u001b[1;34m(self, input, final)\u001b[0m\n\u001b[0;32m     18\u001b[0m \u001b[38;5;28;01mdef\u001b[39;00m \u001b[38;5;21mencode\u001b[39m(\u001b[38;5;28mself\u001b[39m, \u001b[38;5;28minput\u001b[39m, final\u001b[38;5;241m=\u001b[39m\u001b[38;5;28;01mFalse\u001b[39;00m):\n\u001b[1;32m---> 19\u001b[0m     \u001b[38;5;28;01mreturn\u001b[39;00m \u001b[43mcodecs\u001b[49m\u001b[38;5;241;43m.\u001b[39;49m\u001b[43mcharmap_encode\u001b[49m\u001b[43m(\u001b[49m\u001b[38;5;28;43minput\u001b[39;49m\u001b[43m,\u001b[49m\u001b[38;5;28;43mself\u001b[39;49m\u001b[38;5;241;43m.\u001b[39;49m\u001b[43merrors\u001b[49m\u001b[43m,\u001b[49m\u001b[43mencoding_table\u001b[49m\u001b[43m)\u001b[49m[\u001b[38;5;241m0\u001b[39m]\n",
      "\u001b[1;31mUnicodeEncodeError\u001b[0m: 'charmap' codec can't encode character '\\u014d' in position 0: character maps to <undefined>"
     ]
    }
   ],
   "source": [
    "with open ('music_genres.txt', 'w') as f:\n",
    "    for x in better_music_list:\n",
    "        f.writelines(x + '\\n')"
   ]
  },
  {
   "cell_type": "code",
   "execution_count": 25,
   "id": "26fe664b-d35f-4b09-82ae-517eb6b961b5",
   "metadata": {
    "tags": []
   },
   "outputs": [
    {
     "data": {
      "text/plain": [
       "['cultural_origins  = Early 600s – Mid-1400s, Korea\\n']"
      ]
     },
     "execution_count": 25,
     "metadata": {},
     "output_type": "execute_result"
    }
   ],
   "source": [
    "_,wikipage_test = get_wikipage(music_list[5]) #cultural_origins[^|]*\n",
    "test_text = get_references(wikipage_test, pattern=r'cultural_origins[^|]*')\n",
    "test_text"
   ]
  },
  {
   "cell_type": "code",
   "execution_count": 69,
   "id": "ce538ad0-046d-4137-bc40-f1ea24757094",
   "metadata": {
    "tags": []
   },
   "outputs": [
    {
     "name": "stdout",
     "output_type": "stream",
     "text": [
      "(600, 1400, 'Korea')\n",
      "(600, 609, 'Korea')\n",
      "(-1, -1, 'Korea')\n"
     ]
    },
    {
     "ename": "Exception",
     "evalue": "UnhandledOriginException: the text \"cultural_origins  = Early 600s – Mid-1400s sub 30s, Korea\n\" contains more years than 2",
     "output_type": "error",
     "traceback": [
      "\u001b[1;31m---------------------------------------------------------------------------\u001b[0m",
      "\u001b[1;31mException\u001b[0m                                 Traceback (most recent call last)",
      "Cell \u001b[1;32mIn[69], line 32\u001b[0m\n\u001b[0;32m     30\u001b[0m \u001b[38;5;28mprint\u001b[39m(extract_origins([\u001b[38;5;124m'\u001b[39m\u001b[38;5;124mcultural_origins  = Early 600s – Mid-, Korea\u001b[39m\u001b[38;5;130;01m\\n\u001b[39;00m\u001b[38;5;124m'\u001b[39m]))\n\u001b[0;32m     31\u001b[0m \u001b[38;5;28mprint\u001b[39m(extract_origins([\u001b[38;5;124m'\u001b[39m\u001b[38;5;124mcultural_origins  = Early  – Mid-, Korea\u001b[39m\u001b[38;5;130;01m\\n\u001b[39;00m\u001b[38;5;124m'\u001b[39m]))\n\u001b[1;32m---> 32\u001b[0m \u001b[38;5;28mprint\u001b[39m(\u001b[43mextract_origins\u001b[49m\u001b[43m(\u001b[49m\u001b[43m[\u001b[49m\u001b[38;5;124;43m'\u001b[39;49m\u001b[38;5;124;43mcultural_origins  = Early 600s – Mid-1400s sub 30s, Korea\u001b[39;49m\u001b[38;5;130;43;01m\\n\u001b[39;49;00m\u001b[38;5;124;43m'\u001b[39;49m\u001b[43m]\u001b[49m\u001b[43m)\u001b[49m)\n",
      "Cell \u001b[1;32mIn[69], line 24\u001b[0m, in \u001b[0;36mextract_origins\u001b[1;34m(text)\u001b[0m\n\u001b[0;32m     21\u001b[0m     start, end \u001b[38;5;241m=\u001b[39m \u001b[38;5;241m-\u001b[39m\u001b[38;5;241m1\u001b[39m, \u001b[38;5;241m-\u001b[39m\u001b[38;5;241m1\u001b[39m\n\u001b[0;32m     23\u001b[0m \u001b[38;5;28;01melse\u001b[39;00m:\n\u001b[1;32m---> 24\u001b[0m     \u001b[38;5;28;01mraise\u001b[39;00m \u001b[38;5;167;01mException\u001b[39;00m(\u001b[38;5;124mf\u001b[39m\u001b[38;5;124m\"\u001b[39m\u001b[38;5;124mUnhandledOriginException: the text \u001b[39m\u001b[38;5;130;01m\\\"\u001b[39;00m\u001b[38;5;132;01m{\u001b[39;00mtext[\u001b[38;5;241m0\u001b[39m]\u001b[38;5;132;01m}\u001b[39;00m\u001b[38;5;130;01m\\\"\u001b[39;00m\u001b[38;5;124m contains more years than 2\u001b[39m\u001b[38;5;124m\"\u001b[39m)\n\u001b[0;32m     26\u001b[0m place \u001b[38;5;241m=\u001b[39m re\u001b[38;5;241m.\u001b[39mfindall(\u001b[38;5;124mr\u001b[39m\u001b[38;5;124m'\u001b[39m\u001b[38;5;124m,\u001b[39m\u001b[38;5;124m\\\u001b[39m\u001b[38;5;124ms+\u001b[39m\u001b[38;5;124m\\\u001b[39m\u001b[38;5;124mw+\u001b[39m\u001b[38;5;124m'\u001b[39m, text[\u001b[38;5;241m0\u001b[39m])[\u001b[38;5;241m0\u001b[39m][\u001b[38;5;241m2\u001b[39m:]\n\u001b[0;32m     28\u001b[0m \u001b[38;5;28;01mreturn\u001b[39;00m start, end, place\n",
      "\u001b[1;31mException\u001b[0m: UnhandledOriginException: the text \"cultural_origins  = Early 600s – Mid-1400s sub 30s, Korea\n\" contains more years than 2"
     ]
    }
   ],
   "source": [
    "def extract_origins(text):\n",
    "    '''\n",
    "    input is expected to be the raw output from get_references()\n",
    "    '''\n",
    "    start, end = 0,0\n",
    "    matches_num = re.findall(r'\\d+', text[0])\n",
    "    \n",
    "    if len(matches_num) == 2:\n",
    "        # Contains two years, use these as start and end point\n",
    "        start = int(matches_num[0])\n",
    "        end = int(matches_num[1])\n",
    "        \n",
    "    elif len(matches_num) == 1:\n",
    "        # Contains one year, likely decade, use start and end of this decade\n",
    "        prefix = matches_num[0][:-1]\n",
    "        start = int(prefix+\"0\")\n",
    "        end = int(prefix+\"9\")\n",
    "        \n",
    "    elif len(matches_num) == 0:\n",
    "        # No year given, write as unknown\n",
    "        start, end = -1, -1\n",
    "        \n",
    "    else:\n",
    "        raise Exception(f\"UnhandledOriginException: the text \\\"{text[0]}\\\" contains more years than 2\")\n",
    "        \n",
    "    place = re.findall(r',\\s+\\w+', text[0])[0][2:]\n",
    "    \n",
    "    return start, end, place\n",
    "print(extract_origins(['cultural_origins  = Early 600s – Mid-1400s, Korea\\n']))\n",
    "print(extract_origins(['cultural_origins  = Early 600s – Mid-, Korea\\n']))\n",
    "print(extract_origins(['cultural_origins  = Early  – Mid-, Korea\\n']))\n",
    "print(extract_origins(['cultural_origins  = Early 600s – Mid-1400s sub 30s, Korea\\n']))"
   ]
  },
  {
   "cell_type": "code",
   "execution_count": null,
   "id": "611f8077-2ca7-47a7-9ee7-2464fed7f1eb",
   "metadata": {},
   "outputs": [],
   "source": []
  }
 ],
 "metadata": {
  "kernelspec": {
   "display_name": "Python 3 (ipykernel)",
   "language": "python",
   "name": "python3"
  },
  "language_info": {
   "codemirror_mode": {
    "name": "ipython",
    "version": 3
   },
   "file_extension": ".py",
   "mimetype": "text/x-python",
   "name": "python",
   "nbconvert_exporter": "python",
   "pygments_lexer": "ipython3",
   "version": "3.10.10"
  }
 },
 "nbformat": 4,
 "nbformat_minor": 5
}
